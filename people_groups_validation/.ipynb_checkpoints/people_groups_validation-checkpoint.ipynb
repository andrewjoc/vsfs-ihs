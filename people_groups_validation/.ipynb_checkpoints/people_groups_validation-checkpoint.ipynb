{
 "cells": [
  {
   "cell_type": "code",
   "execution_count": 1,
   "id": "b25ce171-9655-4613-9b0b-2c684c9fdb3a",
   "metadata": {},
   "outputs": [],
   "source": [
    "import pandas as pd\n",
    "import geopandas as gpd\n",
    "import numpy as np\n",
    "\n",
    "# functions to process PeopleGroups datasets\n",
    "from features import *"
   ]
  },
  {
   "cell_type": "markdown",
   "id": "c074a8e2-28d3-457c-8a89-b92aca845824",
   "metadata": {},
   "source": [
    "### link to google drive\n",
    "* https://drive.google.com/drive/folders/1_4R9ut87eemnxWH53VN8QCSyRugit27s?usp=sharing"
   ]
  },
  {
   "cell_type": "markdown",
   "id": "d4f6419e-8726-484c-820a-0d45d5896643",
   "metadata": {},
   "source": [
    "### Note:\n",
    "* It is important to run the cells of this jupyter notebook sequentially. If you run into an error, or an output isn't what you would expect, please rerun the cells from top to bottom."
   ]
  },
  {
   "cell_type": "markdown",
   "id": "7a72e5d3-b143-483f-835d-63e03c0ca354",
   "metadata": {},
   "source": [
    "<hr style=\"border: 5px solid #003262;\" />\n",
    "<hr style=\"border: 1px solid #fdb515;\" />"
   ]
  },
  {
   "cell_type": "markdown",
   "id": "96e00ce2-fbb2-4731-a8f6-5d5c05c905fb",
   "metadata": {
    "tags": []
   },
   "source": [
    "# Subnational Population Data"
   ]
  },
  {
   "cell_type": "markdown",
   "id": "9980f5e9-4279-4153-ae5d-a755baf9225a",
   "metadata": {},
   "source": [
    "### Countries that can be Validated (ADM1)"
   ]
  },
  {
   "cell_type": "code",
   "execution_count": 3,
   "id": "a97267d7-b80d-4b09-90e4-44abae42424a",
   "metadata": {},
   "outputs": [
    {
     "data": {
      "text/plain": [
       "['Afghanistan',\n",
       " 'Bangladesh',\n",
       " 'Brunei',\n",
       " 'Burkina Faso',\n",
       " 'Burundi',\n",
       " 'Cambodia',\n",
       " 'Chad',\n",
       " 'Comoros',\n",
       " 'Congo, Republic of',\n",
       " 'Cuba',\n",
       " 'Indonesia',\n",
       " 'Jamaica',\n",
       " 'Kazakhstan',\n",
       " 'Kyrgyzstan',\n",
       " 'Laos',\n",
       " 'Malaysia',\n",
       " 'Myanmar',\n",
       " 'Nauru',\n",
       " 'Papua New Guinea',\n",
       " 'Philippines',\n",
       " 'Singapore',\n",
       " 'Suriname',\n",
       " 'Thailand',\n",
       " 'Timor-Leste',\n",
       " 'Tonga',\n",
       " 'Turkmenistan',\n",
       " 'Vietnam']"
      ]
     },
     "execution_count": 3,
     "metadata": {},
     "output_type": "execute_result"
    }
   ],
   "source": [
    "countries_with_data()"
   ]
  },
  {
   "cell_type": "markdown",
   "id": "412c7df5",
   "metadata": {},
   "source": [
    "<hr style=\"border: 5px solid #003262;\" />\n",
    "<hr style=\"border: 1px solid #fdb515;\" />"
   ]
  },
  {
   "cell_type": "markdown",
   "id": "b7e25b0c-d308-4428-99fd-5f6e330600d5",
   "metadata": {},
   "source": [
    "# Validation Code "
   ]
  },
  {
   "cell_type": "markdown",
   "id": "7bfc6e6c-d9d4-481a-9283-f77f572165f2",
   "metadata": {},
   "source": [
    "* only change the country variable\n",
    "* If you get an error, it is either because the country is spelled incorrectly/differently or there is no ADM1 population data available for the country (work in progress)\n",
    "* takes roughly 2 minutes to run (potentially up to 5 minutes)"
   ]
  },
  {
   "cell_type": "code",
   "execution_count": 4,
   "id": "1390182e-689c-4871-892d-5486a62caf4b",
   "metadata": {},
   "outputs": [
    {
     "name": "stderr",
     "output_type": "stream",
     "text": [
      "Downloading...\n",
      "From: https://drive.google.com/uc?id=1Ae60lcYPcaCIw2vwY62ZLMfmmbUwJ6F5\n",
      "To: /Users/andrewoconnor/Desktop/github/IHS/people_groups_validation/data/global_adm1_populations.xlsx\n",
      "100%|████████████████████████████████████████| 140k/140k [00:00<00:00, 4.21MB/s]\n"
     ]
    },
    {
     "name": "stdout",
     "output_type": "stream",
     "text": [
      "All people groups in Vietnam are valid.\n"
     ]
    },
    {
     "data": {
      "text/html": [
       "<div>\n",
       "<style scoped>\n",
       "    .dataframe tbody tr th:only-of-type {\n",
       "        vertical-align: middle;\n",
       "    }\n",
       "\n",
       "    .dataframe tbody tr th {\n",
       "        vertical-align: top;\n",
       "    }\n",
       "\n",
       "    .dataframe thead th {\n",
       "        text-align: right;\n",
       "    }\n",
       "</style>\n",
       "<table border=\"1\" class=\"dataframe\">\n",
       "  <thead>\n",
       "    <tr style=\"text-align: right;\">\n",
       "      <th></th>\n",
       "      <th>People Group</th>\n",
       "      <th>Alpha-3 Code</th>\n",
       "      <th>People Group Population</th>\n",
       "      <th>Country</th>\n",
       "      <th>geometry</th>\n",
       "      <th>ADM1 Boundaries Present</th>\n",
       "      <th>Total Boundary Population</th>\n",
       "      <th>Valid People Group</th>\n",
       "    </tr>\n",
       "  </thead>\n",
       "  <tbody>\n",
       "    <tr>\n",
       "      <th>122</th>\n",
       "      <td>Maa</td>\n",
       "      <td>VNM</td>\n",
       "      <td>41500</td>\n",
       "      <td>Vietnam</td>\n",
       "      <td>MULTIPOLYGON (((107.77355 11.63589, 107.77013 ...</td>\n",
       "      <td>[Bình Phước, Đắk Nông, Đồng Nai, Lâm Đồng]</td>\n",
       "      <td>6403450.0</td>\n",
       "      <td>True</td>\n",
       "    </tr>\n",
       "    <tr>\n",
       "      <th>341</th>\n",
       "      <td>Tho</td>\n",
       "      <td>VNM</td>\n",
       "      <td>74500</td>\n",
       "      <td>Vietnam</td>\n",
       "      <td>MULTIPOLYGON (((105.23546 19.06660, 105.23506 ...</td>\n",
       "      <td>[Nghệ An, Thanh Hóa]</td>\n",
       "      <td>7349686.0</td>\n",
       "      <td>True</td>\n",
       "    </tr>\n",
       "    <tr>\n",
       "      <th>476</th>\n",
       "      <td>Southern Roglai</td>\n",
       "      <td>VNM</td>\n",
       "      <td>47000</td>\n",
       "      <td>Vietnam</td>\n",
       "      <td>MULTIPOLYGON (((109.13622 12.04243, 109.13853 ...</td>\n",
       "      <td>[Bình Thuận, Khánh Hòa, Lâm Đồng, Ninh Thuận]</td>\n",
       "      <td>4567766.0</td>\n",
       "      <td>True</td>\n",
       "    </tr>\n",
       "    <tr>\n",
       "      <th>748</th>\n",
       "      <td>Rhade</td>\n",
       "      <td>VNM</td>\n",
       "      <td>331000</td>\n",
       "      <td>Vietnam</td>\n",
       "      <td>MULTIPOLYGON (((109.09263 12.92527, 109.07251 ...</td>\n",
       "      <td>[Đắk Lắk, Đắk Nông, Gia Lai, Phú Yên]</td>\n",
       "      <td>5155968.0</td>\n",
       "      <td>True</td>\n",
       "    </tr>\n",
       "    <tr>\n",
       "      <th>849</th>\n",
       "      <td>Jarai</td>\n",
       "      <td>VNM</td>\n",
       "      <td>411000</td>\n",
       "      <td>Vietnam</td>\n",
       "      <td>MULTIPOLYGON (((108.34499 14.20708, 108.40307 ...</td>\n",
       "      <td>[Bình Định, Gia Lai, Kon Tum]</td>\n",
       "      <td>3739770.0</td>\n",
       "      <td>True</td>\n",
       "    </tr>\n",
       "    <tr>\n",
       "      <th>...</th>\n",
       "      <td>...</td>\n",
       "      <td>...</td>\n",
       "      <td>...</td>\n",
       "      <td>...</td>\n",
       "      <td>...</td>\n",
       "      <td>...</td>\n",
       "      <td>...</td>\n",
       "      <td>...</td>\n",
       "    </tr>\n",
       "    <tr>\n",
       "      <th>9971</th>\n",
       "      <td>Giay</td>\n",
       "      <td>VNM</td>\n",
       "      <td>55000</td>\n",
       "      <td>Vietnam</td>\n",
       "      <td>MULTIPOLYGON (((104.14608 22.53744, 104.16107 ...</td>\n",
       "      <td>[Cao Bằng, Hà Giang, Lai Châu, Lào Cai, Yên Bái]</td>\n",
       "      <td>3601133.0</td>\n",
       "      <td>True</td>\n",
       "    </tr>\n",
       "    <tr>\n",
       "      <th>10166</th>\n",
       "      <td>Mang</td>\n",
       "      <td>VNM</td>\n",
       "      <td>3700</td>\n",
       "      <td>Vietnam</td>\n",
       "      <td>MULTIPOLYGON (((103.13679 22.44000, 103.13780 ...</td>\n",
       "      <td>[Lai Châu]</td>\n",
       "      <td>492594.0</td>\n",
       "      <td>True</td>\n",
       "    </tr>\n",
       "    <tr>\n",
       "      <th>10168</th>\n",
       "      <td>Lolo</td>\n",
       "      <td>VNM</td>\n",
       "      <td>4500</td>\n",
       "      <td>Vietnam</td>\n",
       "      <td>MULTIPOLYGON (((103.89991 22.35385, 103.90110 ...</td>\n",
       "      <td>[Lào Cai]</td>\n",
       "      <td>777540.0</td>\n",
       "      <td>True</td>\n",
       "    </tr>\n",
       "    <tr>\n",
       "      <th>10301</th>\n",
       "      <td>Han Chinese</td>\n",
       "      <td>VNM</td>\n",
       "      <td>1130000</td>\n",
       "      <td>Vietnam</td>\n",
       "      <td>MULTIPOLYGON (((106.17992 20.16653, 106.17598 ...</td>\n",
       "      <td>[Bắc Giang, Bắc Kạn, Bắc Ninh, Hà Nam, Hà Nội ...</td>\n",
       "      <td>37628799.0</td>\n",
       "      <td>True</td>\n",
       "    </tr>\n",
       "    <tr>\n",
       "      <th>10430</th>\n",
       "      <td>Deaf Vietnamese</td>\n",
       "      <td>VNM</td>\n",
       "      <td>950000</td>\n",
       "      <td>Vietnam</td>\n",
       "      <td>MULTIPOLYGON (((107.48991 13.03347, 107.51096 ...</td>\n",
       "      <td>[Bà Rịa–Vũng Tàu, Bắc Ninh, Bình Dương, Đà Nẵn...</td>\n",
       "      <td>44340354.0</td>\n",
       "      <td>True</td>\n",
       "    </tr>\n",
       "  </tbody>\n",
       "</table>\n",
       "<p>74 rows × 8 columns</p>\n",
       "</div>"
      ],
      "text/plain": [
       "           People Group Alpha-3 Code  People Group Population  Country  \\\n",
       "122                 Maa          VNM                    41500  Vietnam   \n",
       "341                 Tho          VNM                    74500  Vietnam   \n",
       "476     Southern Roglai          VNM                    47000  Vietnam   \n",
       "748               Rhade          VNM                   331000  Vietnam   \n",
       "849               Jarai          VNM                   411000  Vietnam   \n",
       "...                 ...          ...                      ...      ...   \n",
       "9971               Giay          VNM                    55000  Vietnam   \n",
       "10166              Mang          VNM                     3700  Vietnam   \n",
       "10168              Lolo          VNM                     4500  Vietnam   \n",
       "10301       Han Chinese          VNM                  1130000  Vietnam   \n",
       "10430  Deaf Vietnamese           VNM                   950000  Vietnam   \n",
       "\n",
       "                                                geometry  \\\n",
       "122    MULTIPOLYGON (((107.77355 11.63589, 107.77013 ...   \n",
       "341    MULTIPOLYGON (((105.23546 19.06660, 105.23506 ...   \n",
       "476    MULTIPOLYGON (((109.13622 12.04243, 109.13853 ...   \n",
       "748    MULTIPOLYGON (((109.09263 12.92527, 109.07251 ...   \n",
       "849    MULTIPOLYGON (((108.34499 14.20708, 108.40307 ...   \n",
       "...                                                  ...   \n",
       "9971   MULTIPOLYGON (((104.14608 22.53744, 104.16107 ...   \n",
       "10166  MULTIPOLYGON (((103.13679 22.44000, 103.13780 ...   \n",
       "10168  MULTIPOLYGON (((103.89991 22.35385, 103.90110 ...   \n",
       "10301  MULTIPOLYGON (((106.17992 20.16653, 106.17598 ...   \n",
       "10430  MULTIPOLYGON (((107.48991 13.03347, 107.51096 ...   \n",
       "\n",
       "                                 ADM1 Boundaries Present  \\\n",
       "122           [Bình Phước, Đắk Nông, Đồng Nai, Lâm Đồng]   \n",
       "341                                 [Nghệ An, Thanh Hóa]   \n",
       "476        [Bình Thuận, Khánh Hòa, Lâm Đồng, Ninh Thuận]   \n",
       "748                [Đắk Lắk, Đắk Nông, Gia Lai, Phú Yên]   \n",
       "849                        [Bình Định, Gia Lai, Kon Tum]   \n",
       "...                                                  ...   \n",
       "9971    [Cao Bằng, Hà Giang, Lai Châu, Lào Cai, Yên Bái]   \n",
       "10166                                         [Lai Châu]   \n",
       "10168                                          [Lào Cai]   \n",
       "10301  [Bắc Giang, Bắc Kạn, Bắc Ninh, Hà Nam, Hà Nội ...   \n",
       "10430  [Bà Rịa–Vũng Tàu, Bắc Ninh, Bình Dương, Đà Nẵn...   \n",
       "\n",
       "       Total Boundary Population  Valid People Group  \n",
       "122                    6403450.0                True  \n",
       "341                    7349686.0                True  \n",
       "476                    4567766.0                True  \n",
       "748                    5155968.0                True  \n",
       "849                    3739770.0                True  \n",
       "...                          ...                 ...  \n",
       "9971                   3601133.0                True  \n",
       "10166                   492594.0                True  \n",
       "10168                   777540.0                True  \n",
       "10301                 37628799.0                True  \n",
       "10430                 44340354.0                True  \n",
       "\n",
       "[74 rows x 8 columns]"
      ]
     },
     "execution_count": 4,
     "metadata": {},
     "output_type": "execute_result"
    }
   ],
   "source": [
    "country = \"Vietnam\"\n",
    "\n",
    "# no need to edit anything below this line\n",
    "results = validate_country(country, True)\n",
    "results"
   ]
  },
  {
   "cell_type": "markdown",
   "id": "7af7aba3-5d1a-4e53-8295-5c56880825d0",
   "metadata": {},
   "source": [
    "<hr style=\"border: 5px solid #003262;\" />\n",
    "<hr style=\"border: 1px solid #fdb515;\" />"
   ]
  },
  {
   "cell_type": "markdown",
   "id": "e35cb4ad-5260-48a4-ad7c-bdb8f6286230",
   "metadata": {},
   "source": [
    "# Map"
   ]
  },
  {
   "cell_type": "markdown",
   "id": "0d1f4432-901b-4631-bc1c-54a749cab365",
   "metadata": {},
   "source": [
    "* This section will allow you to view a map of the people groups  "
   ]
  },
  {
   "cell_type": "code",
   "execution_count": 5,
   "id": "6337233f-4264-4a6b-ae88-23128ec43711",
   "metadata": {},
   "outputs": [
    {
     "ename": "ValueError",
     "evalue": "Location values cannot contain NaNs.",
     "output_type": "error",
     "traceback": [
      "\u001b[0;31m---------------------------------------------------------------------------\u001b[0m",
      "\u001b[0;31mValueError\u001b[0m                                Traceback (most recent call last)",
      "Cell \u001b[0;32mIn [5], line 1\u001b[0m\n\u001b[0;32m----> 1\u001b[0m \u001b[43mmap_results\u001b[49m\u001b[43m(\u001b[49m\u001b[43mresults\u001b[49m\u001b[43m)\u001b[49m\n",
      "File \u001b[0;32m~/Desktop/github/IHS/people_groups_validation/features.py:220\u001b[0m, in \u001b[0;36mmap_results\u001b[0;34m(df, query)\u001b[0m\n\u001b[1;32m    214\u001b[0m \u001b[38;5;28;01mdef\u001b[39;00m \u001b[38;5;21mmap_results\u001b[39m(df, query\u001b[38;5;241m=\u001b[39m\u001b[38;5;28;01mNone\u001b[39;00m):\n\u001b[1;32m    215\u001b[0m     \u001b[38;5;124;03m'''\u001b[39;00m\n\u001b[1;32m    216\u001b[0m \u001b[38;5;124;03m    output: folium map\u001b[39;00m\n\u001b[1;32m    217\u001b[0m \u001b[38;5;124;03m    description: outputs an interactive map of people groups that did not intersect any ADM1 boundaries.\u001b[39;00m\n\u001b[1;32m    218\u001b[0m \u001b[38;5;124;03m    '''\u001b[39;00m\n\u001b[0;32m--> 220\u001b[0m     results_map \u001b[38;5;241m=\u001b[39m df\u001b[38;5;241m.\u001b[39mquery(\u001b[38;5;124m'\u001b[39m\u001b[38;5;124m`ADM1 Boundaries Present` == \u001b[39m\u001b[38;5;124m\"\u001b[39m\u001b[38;5;124mNONE\u001b[39m\u001b[38;5;124m\"\u001b[39m\u001b[38;5;124m'\u001b[39m)\n\u001b[1;32m    221\u001b[0m     \u001b[38;5;28;01mreturn\u001b[39;00m results_map\u001b[38;5;241m.\u001b[39mexplore(color\u001b[38;5;241m=\u001b[39m\u001b[38;5;124m'\u001b[39m\u001b[38;5;124mred\u001b[39m\u001b[38;5;124m'\u001b[39m)\n",
      "File \u001b[0;32m/Library/Frameworks/Python.framework/Versions/3.10/lib/python3.10/site-packages/geopandas/geodataframe.py:2010\u001b[0m, in \u001b[0;36mGeoDataFrame.explore\u001b[0;34m(self, *args, **kwargs)\u001b[0m\n\u001b[1;32m   2007\u001b[0m \u001b[38;5;129m@doc\u001b[39m(_explore)\n\u001b[1;32m   2008\u001b[0m \u001b[38;5;28;01mdef\u001b[39;00m \u001b[38;5;21mexplore\u001b[39m(\u001b[38;5;28mself\u001b[39m, \u001b[38;5;241m*\u001b[39margs, \u001b[38;5;241m*\u001b[39m\u001b[38;5;241m*\u001b[39mkwargs):\n\u001b[1;32m   2009\u001b[0m     \u001b[38;5;124;03m\"\"\"Interactive map based on folium/leaflet.js\"\"\"\u001b[39;00m\n\u001b[0;32m-> 2010\u001b[0m     \u001b[38;5;28;01mreturn\u001b[39;00m \u001b[43m_explore\u001b[49m\u001b[43m(\u001b[49m\u001b[38;5;28;43mself\u001b[39;49m\u001b[43m,\u001b[49m\u001b[43m \u001b[49m\u001b[38;5;241;43m*\u001b[39;49m\u001b[43margs\u001b[49m\u001b[43m,\u001b[49m\u001b[43m \u001b[49m\u001b[38;5;241;43m*\u001b[39;49m\u001b[38;5;241;43m*\u001b[39;49m\u001b[43mkwargs\u001b[49m\u001b[43m)\u001b[49m\n",
      "File \u001b[0;32m/Library/Frameworks/Python.framework/Versions/3.10/lib/python3.10/site-packages/geopandas/explore.py:345\u001b[0m, in \u001b[0;36m_explore\u001b[0;34m(df, column, cmap, color, m, tiles, attr, tooltip, popup, highlight, categorical, legend, scheme, k, vmin, vmax, width, height, categories, classification_kwds, control_scale, marker_type, marker_kwds, style_kwds, highlight_kwds, missing_kwds, tooltip_kwds, popup_kwds, legend_kwds, map_kwds, **kwargs)\u001b[0m\n\u001b[1;32m    342\u001b[0m         map_kwds[\u001b[38;5;124m\"\u001b[39m\u001b[38;5;124mmax_zoom\u001b[39m\u001b[38;5;124m\"\u001b[39m] \u001b[38;5;241m=\u001b[39m tiles\u001b[38;5;241m.\u001b[39mget(\u001b[38;5;124m\"\u001b[39m\u001b[38;5;124mmax_zoom\u001b[39m\u001b[38;5;124m\"\u001b[39m, \u001b[38;5;241m18\u001b[39m)\n\u001b[1;32m    343\u001b[0m         tiles \u001b[38;5;241m=\u001b[39m tiles\u001b[38;5;241m.\u001b[39mbuild_url(scale_factor\u001b[38;5;241m=\u001b[39m\u001b[38;5;124m\"\u001b[39m\u001b[38;5;132;01m{r}\u001b[39;00m\u001b[38;5;124m\"\u001b[39m)\n\u001b[0;32m--> 345\u001b[0m m \u001b[38;5;241m=\u001b[39m \u001b[43mfolium\u001b[49m\u001b[38;5;241;43m.\u001b[39;49m\u001b[43mMap\u001b[49m\u001b[43m(\u001b[49m\n\u001b[1;32m    346\u001b[0m \u001b[43m    \u001b[49m\u001b[43mlocation\u001b[49m\u001b[38;5;241;43m=\u001b[39;49m\u001b[43mlocation\u001b[49m\u001b[43m,\u001b[49m\n\u001b[1;32m    347\u001b[0m \u001b[43m    \u001b[49m\u001b[43mcontrol_scale\u001b[49m\u001b[38;5;241;43m=\u001b[39;49m\u001b[43mcontrol_scale\u001b[49m\u001b[43m,\u001b[49m\n\u001b[1;32m    348\u001b[0m \u001b[43m    \u001b[49m\u001b[43mtiles\u001b[49m\u001b[38;5;241;43m=\u001b[39;49m\u001b[43mtiles\u001b[49m\u001b[43m,\u001b[49m\n\u001b[1;32m    349\u001b[0m \u001b[43m    \u001b[49m\u001b[43mattr\u001b[49m\u001b[38;5;241;43m=\u001b[39;49m\u001b[43mattr\u001b[49m\u001b[43m,\u001b[49m\n\u001b[1;32m    350\u001b[0m \u001b[43m    \u001b[49m\u001b[43mwidth\u001b[49m\u001b[38;5;241;43m=\u001b[39;49m\u001b[43mwidth\u001b[49m\u001b[43m,\u001b[49m\n\u001b[1;32m    351\u001b[0m \u001b[43m    \u001b[49m\u001b[43mheight\u001b[49m\u001b[38;5;241;43m=\u001b[39;49m\u001b[43mheight\u001b[49m\u001b[43m,\u001b[49m\n\u001b[1;32m    352\u001b[0m \u001b[43m    \u001b[49m\u001b[38;5;241;43m*\u001b[39;49m\u001b[38;5;241;43m*\u001b[39;49m\u001b[43mmap_kwds\u001b[49m\u001b[43m,\u001b[49m\n\u001b[1;32m    353\u001b[0m \u001b[43m\u001b[49m\u001b[43m)\u001b[49m\n\u001b[1;32m    355\u001b[0m \u001b[38;5;66;03m# fit bounds to get a proper zoom level\u001b[39;00m\n\u001b[1;32m    356\u001b[0m \u001b[38;5;28;01mif\u001b[39;00m fit:\n",
      "File \u001b[0;32m/Library/Frameworks/Python.framework/Versions/3.10/lib/python3.10/site-packages/folium/folium.py:253\u001b[0m, in \u001b[0;36mMap.__init__\u001b[0;34m(self, location, width, height, left, top, position, tiles, attr, min_zoom, max_zoom, zoom_start, min_lat, max_lat, min_lon, max_lon, max_bounds, crs, control_scale, prefer_canvas, no_touch, disable_3d, png_enabled, zoom_control, **kwargs)\u001b[0m\n\u001b[1;32m    251\u001b[0m     zoom_start \u001b[38;5;241m=\u001b[39m \u001b[38;5;241m1\u001b[39m\n\u001b[1;32m    252\u001b[0m \u001b[38;5;28;01melse\u001b[39;00m:\n\u001b[0;32m--> 253\u001b[0m     \u001b[38;5;28mself\u001b[39m\u001b[38;5;241m.\u001b[39mlocation \u001b[38;5;241m=\u001b[39m \u001b[43mvalidate_location\u001b[49m\u001b[43m(\u001b[49m\u001b[43mlocation\u001b[49m\u001b[43m)\u001b[49m\n\u001b[1;32m    255\u001b[0m Figure()\u001b[38;5;241m.\u001b[39madd_child(\u001b[38;5;28mself\u001b[39m)\n\u001b[1;32m    257\u001b[0m \u001b[38;5;66;03m# Map Size Parameters.\u001b[39;00m\n",
      "File \u001b[0;32m/Library/Frameworks/Python.framework/Versions/3.10/lib/python3.10/site-packages/folium/utilities.py:66\u001b[0m, in \u001b[0;36mvalidate_location\u001b[0;34m(location)\u001b[0m\n\u001b[1;32m     62\u001b[0m         \u001b[38;5;28;01mraise\u001b[39;00m \u001b[38;5;167;01mValueError\u001b[39;00m(\u001b[38;5;124m'\u001b[39m\u001b[38;5;124mLocation should consist of two numerical values, \u001b[39m\u001b[38;5;124m'\u001b[39m\n\u001b[1;32m     63\u001b[0m                          \u001b[38;5;124m'\u001b[39m\u001b[38;5;124mbut \u001b[39m\u001b[38;5;132;01m{!r}\u001b[39;00m\u001b[38;5;124m of type \u001b[39m\u001b[38;5;132;01m{}\u001b[39;00m\u001b[38;5;124m is not convertible to float.\u001b[39m\u001b[38;5;124m'\u001b[39m\n\u001b[1;32m     64\u001b[0m                          \u001b[38;5;241m.\u001b[39mformat(coord, \u001b[38;5;28mtype\u001b[39m(coord)))\n\u001b[1;32m     65\u001b[0m     \u001b[38;5;28;01mif\u001b[39;00m math\u001b[38;5;241m.\u001b[39misnan(\u001b[38;5;28mfloat\u001b[39m(coord)):\n\u001b[0;32m---> 66\u001b[0m         \u001b[38;5;28;01mraise\u001b[39;00m \u001b[38;5;167;01mValueError\u001b[39;00m(\u001b[38;5;124m'\u001b[39m\u001b[38;5;124mLocation values cannot contain NaNs.\u001b[39m\u001b[38;5;124m'\u001b[39m)\n\u001b[1;32m     67\u001b[0m \u001b[38;5;28;01mreturn\u001b[39;00m [\u001b[38;5;28mfloat\u001b[39m(x) \u001b[38;5;28;01mfor\u001b[39;00m x \u001b[38;5;129;01min\u001b[39;00m coords]\n",
      "\u001b[0;31mValueError\u001b[0m: Location values cannot contain NaNs."
     ]
    }
   ],
   "source": [
    "map_results(results)"
   ]
  },
  {
   "cell_type": "markdown",
   "id": "711b45ff-dee5-40a8-aefc-9e3e63ded39d",
   "metadata": {},
   "source": [
    "<hr style=\"border: 5px solid #003262;\" />\n",
    "<hr style=\"border: 1px solid #fdb515;\" />"
   ]
  },
  {
   "cell_type": "markdown",
   "id": "c5dcbed0-4bd5-4294-8e2f-8bb9103fd288",
   "metadata": {},
   "source": [
    "# Saving Results"
   ]
  },
  {
   "cell_type": "markdown",
   "id": "f7323093-aae4-4be5-944e-8b63dd8dfc56",
   "metadata": {},
   "source": [
    "* uncomment the cells below (delete the #) to save it as a certain file format"
   ]
  },
  {
   "cell_type": "markdown",
   "id": "1f24826b-002c-492c-9df1-06d6f5fa5c68",
   "metadata": {},
   "source": [
    "### CSV file"
   ]
  },
  {
   "cell_type": "code",
   "execution_count": null,
   "id": "22f953ba-bed7-4190-bc77-f5b4969fe212",
   "metadata": {},
   "outputs": [],
   "source": [
    "# results.to_csv(f'./output/{country}_validated.csv')"
   ]
  },
  {
   "cell_type": "markdown",
   "id": "01d3344b-dc57-4239-a0a3-3000bafc40fe",
   "metadata": {},
   "source": [
    "### Excel"
   ]
  },
  {
   "cell_type": "code",
   "execution_count": null,
   "id": "859dd352-872b-4fa6-bb11-bcbb227c901f",
   "metadata": {},
   "outputs": [],
   "source": [
    "# results.to_excel(f'./output/{country}_validated.xlsx')"
   ]
  }
 ],
 "metadata": {
  "kernelspec": {
   "display_name": "Python 3 (ipykernel)",
   "language": "python",
   "name": "python3"
  },
  "language_info": {
   "codemirror_mode": {
    "name": "ipython",
    "version": 3
   },
   "file_extension": ".py",
   "mimetype": "text/x-python",
   "name": "python",
   "nbconvert_exporter": "python",
   "pygments_lexer": "ipython3",
   "version": "3.10.5"
  }
 },
 "nbformat": 4,
 "nbformat_minor": 5
}
