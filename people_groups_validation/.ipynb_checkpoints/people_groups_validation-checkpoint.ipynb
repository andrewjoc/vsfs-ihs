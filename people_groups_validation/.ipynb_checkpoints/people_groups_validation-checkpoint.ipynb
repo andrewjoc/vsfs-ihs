{
 "cells": [
  {
   "cell_type": "code",
   "execution_count": 2,
   "id": "b25ce171-9655-4613-9b0b-2c684c9fdb3a",
   "metadata": {},
   "outputs": [],
   "source": [
    "import pandas as pd\n",
    "import geopandas as gpd\n",
    "import numpy as np\n",
    "\n",
    "# functions to process PeopleGroups datasets\n",
    "from features import *"
   ]
  },
  {
   "cell_type": "markdown",
   "id": "7a72e5d3-b143-483f-835d-63e03c0ca354",
   "metadata": {},
   "source": [
    "<hr style=\"border: 5px solid #003262;\" />\n",
    "<hr style=\"border: 1px solid #fdb515;\" />"
   ]
  },
  {
   "cell_type": "markdown",
   "id": "96e00ce2-fbb2-4731-a8f6-5d5c05c905fb",
   "metadata": {
    "tags": []
   },
   "source": [
    "# Instructions"
   ]
  },
  {
   "cell_type": "markdown",
   "id": "a03f6be5-a518-497f-96a7-0f43424bd148",
   "metadata": {},
   "source": [
    "* the ADM1 population data spreadsheet is not complete, it only has data for certain countries\n",
    "* the function below shows what countries currently have ADM1 population data"
   ]
  },
  {
   "cell_type": "code",
   "execution_count": 3,
   "id": "876203c5-6925-45ce-bcc1-b4cb73b84962",
   "metadata": {},
   "outputs": [
    {
     "data": {
      "text/plain": [
       "['Afghanistan',\n",
       " 'Bangladesh',\n",
       " 'Brunei',\n",
       " 'Burkina Faso',\n",
       " 'Burundi',\n",
       " 'Cambodia',\n",
       " 'Chad',\n",
       " 'Comoros',\n",
       " 'Congo, Republic of',\n",
       " 'Cuba',\n",
       " 'Indonesia',\n",
       " 'Jamaica',\n",
       " 'Kazakhstan',\n",
       " 'Kyrgyzstan',\n",
       " 'Laos',\n",
       " 'Malaysia',\n",
       " 'Myanmar',\n",
       " 'Nauru',\n",
       " 'Papua New Guinea',\n",
       " 'Philippines',\n",
       " 'Singapore',\n",
       " 'Suriname',\n",
       " 'Thailand',\n",
       " 'Timor-Leste',\n",
       " 'Tonga',\n",
       " 'Turkmenistan',\n",
       " 'Vietnam']"
      ]
     },
     "execution_count": 3,
     "metadata": {},
     "output_type": "execute_result"
    }
   ],
   "source": [
    "countries_with_data()"
   ]
  },
  {
   "cell_type": "markdown",
   "id": "412c7df5",
   "metadata": {},
   "source": [
    "<hr style=\"border: 5px solid #003262;\" />\n",
    "<hr style=\"border: 1px solid #fdb515;\" />"
   ]
  },
  {
   "cell_type": "markdown",
   "id": "b7e25b0c-d308-4428-99fd-5f6e330600d5",
   "metadata": {},
   "source": [
    "# Validation Code "
   ]
  },
  {
   "cell_type": "markdown",
   "id": "7bfc6e6c-d9d4-481a-9283-f77f572165f2",
   "metadata": {},
   "source": [
    "* only change the country variable\n",
    "* If you get an error, it is either because the country is spelled incorrectly/differently or there is no ADM1 population data available for the country (work in progress)\n",
    "* takes roughly 2 minutes to run (potentially up to 5 minutes)"
   ]
  },
  {
   "cell_type": "code",
   "execution_count": null,
   "id": "1390182e-689c-4871-892d-5486a62caf4b",
   "metadata": {},
   "outputs": [],
   "source": [
    "country = \"Brunei\"\n",
    "\n",
    "# no need to edit anything below this line\n",
    "results = validate_country(country, True)\n",
    "results"
   ]
  },
  {
   "cell_type": "markdown",
   "id": "7af7aba3-5d1a-4e53-8295-5c56880825d0",
   "metadata": {},
   "source": [
    "<hr style=\"border: 5px solid #003262;\" />\n",
    "<hr style=\"border: 1px solid #fdb515;\" />"
   ]
  },
  {
   "cell_type": "markdown",
   "id": "c5dcbed0-4bd5-4294-8e2f-8bb9103fd288",
   "metadata": {},
   "source": [
    "# Saving Results"
   ]
  },
  {
   "cell_type": "markdown",
   "id": "f7323093-aae4-4be5-944e-8b63dd8dfc56",
   "metadata": {},
   "source": [
    "* uncomment the cells below (delete the #) to save it as a certain file format"
   ]
  },
  {
   "cell_type": "markdown",
   "id": "1f24826b-002c-492c-9df1-06d6f5fa5c68",
   "metadata": {},
   "source": [
    "### CSV file"
   ]
  },
  {
   "cell_type": "code",
   "execution_count": null,
   "id": "22f953ba-bed7-4190-bc77-f5b4969fe212",
   "metadata": {},
   "outputs": [],
   "source": [
    "# results.to_csv(f'./output/{country}_validated.csv')"
   ]
  },
  {
   "cell_type": "markdown",
   "id": "01d3344b-dc57-4239-a0a3-3000bafc40fe",
   "metadata": {},
   "source": [
    "### Excel"
   ]
  },
  {
   "cell_type": "code",
   "execution_count": null,
   "id": "859dd352-872b-4fa6-bb11-bcbb227c901f",
   "metadata": {},
   "outputs": [],
   "source": [
    "# results.to_excel(f'./output/{country}_validated.xlsx')"
   ]
  }
 ],
 "metadata": {
  "kernelspec": {
   "display_name": "Python 3 (ipykernel)",
   "language": "python",
   "name": "python3"
  },
  "language_info": {
   "codemirror_mode": {
    "name": "ipython",
    "version": 3
   },
   "file_extension": ".py",
   "mimetype": "text/x-python",
   "name": "python",
   "nbconvert_exporter": "python",
   "pygments_lexer": "ipython3",
   "version": "3.10.5"
  }
 },
 "nbformat": 4,
 "nbformat_minor": 5
}
