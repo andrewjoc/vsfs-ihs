{
 "cells": [
  {
   "cell_type": "markdown",
   "id": "55d6c27a-46a0-4667-8793-85b989e47b57",
   "metadata": {},
   "source": [
    "<hr style=\"border: 5px solid #003262;\" />\n",
    "<hr style=\"border: 1px solid #fdb515;\" />"
   ]
  },
  {
   "cell_type": "markdown",
   "id": "15bc351f-75a0-4d10-bab8-5368ac331e67",
   "metadata": {},
   "source": [
    "# Setup"
   ]
  },
  {
   "cell_type": "markdown",
   "id": "9becb3d4-7065-478b-ae4b-f8c6b0a539f6",
   "metadata": {},
   "source": [
    "* Ensure that you have already downloaded and installed Python on your machine\n",
    "* Now, install the relevant libraries for this project"
   ]
  },
  {
   "cell_type": "code",
   "execution_count": 1,
   "id": "d52b415d-9ede-4069-b2f3-ddc84b370c88",
   "metadata": {},
   "outputs": [],
   "source": [
    "# !pip install pandas\n",
    "# !pip install geopandas\n",
    "# !pip install numpy\n",
    "# !pip install folium\n",
    "# !pip install shapely\n",
    "# !pip install gdown"
   ]
  },
  {
   "cell_type": "code",
   "execution_count": 2,
   "id": "b25ce171-9655-4613-9b0b-2c684c9fdb3a",
   "metadata": {},
   "outputs": [],
   "source": [
    "# run this cell to import libraries\n",
    "import pandas as pd\n",
    "import geopandas as gpd\n",
    "import numpy as np\n",
    "\n",
    "# functions to process PeopleGroups datasets\n",
    "from features import *"
   ]
  },
  {
   "cell_type": "markdown",
   "id": "c074a8e2-28d3-457c-8a89-b92aca845824",
   "metadata": {},
   "source": [
    "### Link to google drive\n",
    "* https://drive.google.com/drive/folders/1_4R9ut87eemnxWH53VN8QCSyRugit27s?usp=sharing"
   ]
  },
  {
   "cell_type": "markdown",
   "id": "d4f6419e-8726-484c-820a-0d45d5896643",
   "metadata": {},
   "source": [
    "### Notes:\n",
    "* It is important to run the cells of this jupyter notebook **sequentially**\n",
    "* If you are just getting started with this notebook, run each cell **individually** because running all cells will take a very long time\n",
    "* Things aren't working as expected? Errors?\n",
    "    * try restarting your kernel and clearing all outputs\n",
    "    * run cells sequentially (from top to bottom)\n",
    "    * is the error explicit in what went wrong? google/stackoverflow probably has an answer\n",
    "    * email Andrew or David"
   ]
  },
  {
   "cell_type": "markdown",
   "id": "7a72e5d3-b143-483f-835d-63e03c0ca354",
   "metadata": {},
   "source": [
    "<hr style=\"border: 5px solid #003262;\" />\n",
    "<hr style=\"border: 1px solid #fdb515;\" />"
   ]
  },
  {
   "cell_type": "markdown",
   "id": "b7e25b0c-d308-4428-99fd-5f6e330600d5",
   "metadata": {},
   "source": [
    "# Validation Code "
   ]
  },
  {
   "cell_type": "markdown",
   "id": "d4d61270-7412-40f9-af6e-e67451e20896",
   "metadata": {},
   "source": [
    "* If you find that there's a country that you'd like to validate but currently has no ADM1 data (according to the output of the function below), feel free to navigate to the `global_adm1_populations.xlsx` spreadsheet in the google drive and manually input the ADM1 data. Be sure to include a source and the year of the population estimate.\n",
    "* uncomment the line below (delete only the #) to view a list of countries ready to be validated"
   ]
  },
  {
   "cell_type": "markdown",
   "id": "9980f5e9-4279-4153-ae5d-a755baf9225a",
   "metadata": {},
   "source": [
    "### Countries that can be Validated (ADM1)"
   ]
  },
  {
   "cell_type": "code",
   "execution_count": 3,
   "id": "4706dd2a-cfcc-4844-93d5-afc3ff374ee3",
   "metadata": {},
   "outputs": [
    {
     "name": "stdout",
     "output_type": "stream",
     "text": [
      "A: \"Afghanistan\"\n",
      "B: \"Bangladesh\", \"Brunei\", \"Burkina Faso\", \"Burundi\"\n",
      "C: \"Cambodia\", \"Chad\", \"Comoros\", \"Congo, Republic of\", \"Cuba\"\n",
      "I: \"India\", \"Indonesia\"\n",
      "J: \"Jamaica\"\n",
      "K: \"Kazakhstan\", \"Kyrgyzstan\"\n",
      "L: \"Laos\"\n",
      "M: \"Malaysia\", \"Myanmar\"\n",
      "N: \"Nauru\"\n",
      "P: \"Papua New Guinea\", \"Philippines\"\n",
      "S: \"Singapore\", \"Suriname\"\n",
      "T: \"Thailand\", \"Timor-Leste\", \"Tonga\", \"Turkmenistan\"\n",
      "V: \"Vietnam\"\n"
     ]
    }
   ],
   "source": [
    "countries_with_data()"
   ]
  },
  {
   "cell_type": "markdown",
   "id": "f1c1ed3a-9aa2-452f-b8a6-9a98eafeeff4",
   "metadata": {},
   "source": [
    " "
   ]
  },
  {
   "cell_type": "markdown",
   "id": "bf8c43dc-aceb-47c0-9ab4-c41fda32c72f",
   "metadata": {},
   "source": [
    "### Validation Function"
   ]
  },
  {
   "cell_type": "markdown",
   "id": "7bfc6e6c-d9d4-481a-9283-f77f572165f2",
   "metadata": {},
   "source": [
    "* only change the country variable\n",
    "* If you get an error, it is either because the country is spelled incorrectly/differently or there is no ADM1 population data available for the country (work in progress)\n",
    "* small countries will take 1-4 minutes (example: Brunei, Vietnam, Philippines)\n",
    "* medium to large size countries (in terms of number of ADM1s) will take anywhere from 8-12 minutes. (examples: Indonesia, India)"
   ]
  },
  {
   "cell_type": "code",
   "execution_count": null,
   "id": "1390182e-689c-4871-892d-5486a62caf4b",
   "metadata": {},
   "outputs": [],
   "source": [
    "country = \"Brunei\"\n",
    "\n",
    "# no need to edit anything below this line\n",
    "results = validate_country(country, verbose=True)\n",
    "results"
   ]
  },
  {
   "cell_type": "markdown",
   "id": "7af7aba3-5d1a-4e53-8295-5c56880825d0",
   "metadata": {},
   "source": [
    "<hr style=\"border: 5px solid #003262;\" />\n",
    "<hr style=\"border: 1px solid #fdb515;\" />"
   ]
  },
  {
   "cell_type": "markdown",
   "id": "e35cb4ad-5260-48a4-ad7c-bdb8f6286230",
   "metadata": {},
   "source": [
    "# Map"
   ]
  },
  {
   "cell_type": "markdown",
   "id": "0d1f4432-901b-4631-bc1c-54a749cab365",
   "metadata": {},
   "source": [
    "* If the country you validated in the section before noted that all people groups in the country were valid, this section is irrelevant\n",
    "* You should be able to view a map of the people groups that did not intersect with an ADM1 boundary  "
   ]
  },
  {
   "cell_type": "code",
   "execution_count": null,
   "id": "6337233f-4264-4a6b-ae88-23128ec43711",
   "metadata": {},
   "outputs": [],
   "source": [
    "map_results(results)"
   ]
  },
  {
   "cell_type": "markdown",
   "id": "711b45ff-dee5-40a8-aefc-9e3e63ded39d",
   "metadata": {},
   "source": [
    "<hr style=\"border: 5px solid #003262;\" />\n",
    "<hr style=\"border: 1px solid #fdb515;\" />"
   ]
  },
  {
   "cell_type": "markdown",
   "id": "c5dcbed0-4bd5-4294-8e2f-8bb9103fd288",
   "metadata": {},
   "source": [
    "# Saving Results"
   ]
  },
  {
   "cell_type": "markdown",
   "id": "f7323093-aae4-4be5-944e-8b63dd8dfc56",
   "metadata": {},
   "source": [
    "* optional\n",
    "* uncomment the cells below (delete only the #) to save it as a certain file format"
   ]
  },
  {
   "cell_type": "markdown",
   "id": "1f24826b-002c-492c-9df1-06d6f5fa5c68",
   "metadata": {},
   "source": [
    "### CSV file"
   ]
  },
  {
   "cell_type": "code",
   "execution_count": null,
   "id": "22f953ba-bed7-4190-bc77-f5b4969fe212",
   "metadata": {},
   "outputs": [],
   "source": [
    "# results.to_csv(f'./output/{country}_validated.csv')"
   ]
  },
  {
   "cell_type": "markdown",
   "id": "01d3344b-dc57-4239-a0a3-3000bafc40fe",
   "metadata": {},
   "source": [
    "### Excel"
   ]
  },
  {
   "cell_type": "code",
   "execution_count": null,
   "id": "859dd352-872b-4fa6-bb11-bcbb227c901f",
   "metadata": {},
   "outputs": [],
   "source": [
    "# results.to_excel(f'./output/{country}_validated.xlsx')"
   ]
  }
 ],
 "metadata": {
  "kernelspec": {
   "display_name": "Python 3 (ipykernel)",
   "language": "python",
   "name": "python3"
  },
  "language_info": {
   "codemirror_mode": {
    "name": "ipython",
    "version": 3
   },
   "file_extension": ".py",
   "mimetype": "text/x-python",
   "name": "python",
   "nbconvert_exporter": "python",
   "pygments_lexer": "ipython3",
   "version": "3.10.5"
  }
 },
 "nbformat": 4,
 "nbformat_minor": 5
}
