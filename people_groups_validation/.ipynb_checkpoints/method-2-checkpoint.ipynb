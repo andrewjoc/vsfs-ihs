{
 "cells": [
  {
   "cell_type": "code",
   "execution_count": 42,
   "id": "3aae894d-bd16-48d5-b930-74f1e9e771d6",
   "metadata": {},
   "outputs": [],
   "source": [
    "# Useful library imports\n",
    "import pandas as pd\n",
    "import geopandas as gpd\n",
    "import folium\n",
    "import os\n",
    "import zipfile\n",
    "from shapely import *\n",
    "import numpy as np\n",
    "import fiona\n",
    "\n",
    "\n",
    "# functions to process PeopleGroups datasets\n",
    "from features import *"
   ]
  },
  {
   "cell_type": "markdown",
   "id": "e06d96c0-b954-45c1-88a3-8f6fd46175d7",
   "metadata": {},
   "source": [
    "<hr style=\"border: 5px solid #003262;\" />\n",
    "<hr style=\"border: 1px solid #fdb515;\" />"
   ]
  },
  {
   "cell_type": "markdown",
   "id": "aeef2134-784f-4250-b6c3-91e7dbe06383",
   "metadata": {},
   "source": [
    "# ** Note ** \n",
    "# Please ignore any and all code below. Still a work in progress."
   ]
  },
  {
   "cell_type": "markdown",
   "id": "1b18d265-1c06-490e-9720-d10f70850f45",
   "metadata": {},
   "source": [
    "<hr style=\"border: 5px solid #003262;\" />\n",
    "<hr style=\"border: 1px solid #fdb515;\" />"
   ]
  },
  {
   "cell_type": "markdown",
   "id": "34646cae-d285-4a70-8099-c1aec1ae1b4a",
   "metadata": {},
   "source": [
    "# Revising Method"
   ]
  },
  {
   "cell_type": "code",
   "execution_count": null,
   "id": "e2b38620-c16c-486f-b908-e42ba1439ac7",
   "metadata": {},
   "outputs": [],
   "source": [
    "morocco_ppg = pd.read_excel('./morocco_data/morocco-ppg.xlsx')\n",
    "# Rename columns in order to use the convert_to_geodataframe function\n",
    "morocco_ppg.rename(columns={'IMB_Affinity': 'IMB Affinity Group', \n",
    "                            'Affinity Bloc': 'Affinity Bloc', \n",
    "                            'People_Group': 'People Group', \n",
    "                            'People_Name':'People Name'}, inplace=True)"
   ]
  },
  {
   "cell_type": "code",
   "execution_count": null,
   "id": "a60daaf8-38e9-4e52-920f-cd5fbc7ab5a9",
   "metadata": {},
   "outputs": [],
   "source": [
    "morocco_ppg"
   ]
  },
  {
   "cell_type": "code",
   "execution_count": null,
   "id": "f0f45764-65c8-45bd-a10f-5ddd602762ac",
   "metadata": {},
   "outputs": [],
   "source": [
    "morocco_ppg_areas[morocco_ppg_areas['Ctry'] == 'Morocco']"
   ]
  },
  {
   "cell_type": "code",
   "execution_count": null,
   "id": "bd516f8c-a85a-4c11-b0cc-c6f86836c417",
   "metadata": {},
   "outputs": [],
   "source": [
    "moroccan_ppgs = morocco_ppg.merge(morocco_ppg_areas, how='left', left_on='People Group', right_on='NmDisp')\n",
    "moroccan_ppgs"
   ]
  },
  {
   "cell_type": "code",
   "execution_count": null,
   "id": "a6bc4fcf-3707-412b-819e-d8b08bca708a",
   "metadata": {},
   "outputs": [],
   "source": [
    "shapes = gpd.read_file('./morocco_data/geodata/geoBoundaries-MAR-ADM1.shp')\n",
    "shapes.head()"
   ]
  },
  {
   "cell_type": "markdown",
   "id": "fb97cdde-dd4b-46ff-ba14-42b3d1d06ab2",
   "metadata": {},
   "source": [
    "def adm1(ppg_df, shapes, adm1_name):\n",
    "    '''\n",
    "    Parameter(s): DataFrame (People groups data frame. Should be the cleaned result of the find_ppg_data function.\n",
    "    Parameter(s): GeoDataFrame (GeoDataFrame from adm1 shapefile)\n",
    "    Parameter(s): String (Name of the administrative level 1 subdivision name - e.g. Province)\n",
    "    Note: PeopleGroups points that fall outside of an administrative region have their ADM1 subdivision encoded as \"MISSING\".\n",
    "    These groups need to have their information manually filled in.\n",
    "    '''\n",
    "\n",
    "    subdivisions = []\n",
    "    for i in range(len(ppg_df.index)):\n",
    "        # Create a coordinate based on a People Group's latitude and longitude\n",
    "        curr_polygon = ppg_df['geometry'].iloc[i]\n",
    "        grouped_subdivisions = shapes[shapes['geometry'].overlaps(curr_polygon) == True].index.values\n",
    "        \n",
    "        if len(grouped_subdivisions) == 0:\n",
    "            grouped_subdivisions = ['MISSING']\n",
    "        subdivisions.append(grouped_subdivisions[0])\n",
    "    matches = [shapes['shapeName'].iloc[i] for i in subdivisions]\n",
    "    ppg_df[adm1_name] = matches\n",
    "    print(f\"Please check the generated {adm1_name} column for missing values, encoded as 'MISSING'\")\n",
    "    print(f\"There are {sum(ppg_df[adm1_name] == 'MISSING')} unassigned people groups.\")\n",
    "    return ppg_df"
   ]
  },
  {
   "cell_type": "markdown",
   "id": "042f80d2-20e4-4618-9c79-bd64967cf4e8",
   "metadata": {},
   "source": [
    "adm1(moroccan_ppgs, shapes, \"Region\")"
   ]
  },
  {
   "cell_type": "code",
   "execution_count": null,
   "id": "25b15d62-0077-4d43-afb7-e355df3769bd",
   "metadata": {},
   "outputs": [],
   "source": [
    "morocco_gdf = gpd.GeoDataFrame(moroccan_ppgs, geometry='geometry')"
   ]
  },
  {
   "cell_type": "code",
   "execution_count": null,
   "id": "8d940375-7978-48ac-9332-220ec0403046",
   "metadata": {},
   "outputs": [],
   "source": [
    "morocco_gdf.explore()"
   ]
  },
  {
   "cell_type": "code",
   "execution_count": null,
   "id": "86c8b254-4749-468f-a110-03083a098bc0",
   "metadata": {},
   "outputs": [],
   "source": [
    "t = morocco_gdf.loc[morocco_gdf['People Group'] == \"Saharawi\", 'geometry'].iloc[0]"
   ]
  },
  {
   "cell_type": "code",
   "execution_count": null,
   "id": "7f9d24a4-2754-4233-804d-d8905d3168fa",
   "metadata": {},
   "outputs": [],
   "source": [
    "type(t)"
   ]
  },
  {
   "cell_type": "code",
   "execution_count": null,
   "id": "2dee889d-8174-4eff-a6dd-ab6eb6aba2dc",
   "metadata": {},
   "outputs": [],
   "source": [
    "morocco_gdf;\n",
    "shapes;"
   ]
  },
  {
   "cell_type": "markdown",
   "id": "ce8801e8-cda5-42c8-bd51-962fd651c6db",
   "metadata": {},
   "source": [
    "`morocco_gdf CRS`: 3857  \n",
    "`shapes CRS`: 4326"
   ]
  },
  {
   "cell_type": "code",
   "execution_count": null,
   "id": "dcf796ae-c8df-4e35-a0bc-ae715fd72252",
   "metadata": {},
   "outputs": [],
   "source": [
    "# change crs of morocco_gdf to 4326\n",
    "\n",
    "g = morocco_gdf.to_crs(4326)"
   ]
  },
  {
   "cell_type": "code",
   "execution_count": null,
   "id": "74af9897-7a37-432a-9e9c-b33781bfa49b",
   "metadata": {},
   "outputs": [],
   "source": [
    "t = shapes.explore(\n",
    "    color='red'\n",
    ")"
   ]
  },
  {
   "cell_type": "code",
   "execution_count": null,
   "id": "47290897-08d3-48e0-835a-112b0a8a2191",
   "metadata": {},
   "outputs": [],
   "source": [
    "g.explore(\n",
    "    m=t\n",
    ")"
   ]
  },
  {
   "cell_type": "code",
   "execution_count": null,
   "id": "07d0e46f-d473-4759-b415-435c8de2a72b",
   "metadata": {},
   "outputs": [],
   "source": [
    "tachelhit = g.iloc[2]['geometry']"
   ]
  },
  {
   "cell_type": "code",
   "execution_count": null,
   "id": "851ad082-4bab-4da1-9b18-765698d21725",
   "metadata": {},
   "outputs": [],
   "source": [
    "shapes.geometry.overlaps(tachelhit)"
   ]
  },
  {
   "cell_type": "code",
   "execution_count": null,
   "id": "43252645-3e40-48fa-bdf1-bdc2795a3130",
   "metadata": {},
   "outputs": [],
   "source": [
    "shapes.iloc[[3,4,5,7,11]]"
   ]
  },
  {
   "cell_type": "code",
   "execution_count": null,
   "id": "e002c98b-f38c-47d4-aa99-e35ae467928d",
   "metadata": {},
   "outputs": [],
   "source": [
    "riffis = g.iloc[1]['geometry']"
   ]
  },
  {
   "cell_type": "code",
   "execution_count": null,
   "id": "bc629a47-9baa-47e5-aba8-20831856bb21",
   "metadata": {},
   "outputs": [],
   "source": [
    "g"
   ]
  },
  {
   "cell_type": "code",
   "execution_count": null,
   "id": "470870c9-39f5-494a-8b57-3f5b8422b301",
   "metadata": {},
   "outputs": [],
   "source": [
    "#  FIRST WORKING TEST\n",
    "\n",
    "morocco_gdf;\n",
    "shapes;\n",
    "# morocco_gdf CRS: 3857  \n",
    "# shapes CRS: 4326\n",
    "\n",
    "g = morocco_gdf.to_crs(4326)\n",
    "# do a test of the tachelhit people group \n",
    "tachelhit = g.iloc[2]['geometry']\n",
    "# shapes where tachelhit overlaps the geometry column\n",
    "k =  shapes.geometry.overlaps(tachelhit)\n",
    "# select those boundaries\n"
   ]
  },
  {
   "cell_type": "code",
   "execution_count": null,
   "id": "16dbe41b-dc0f-44d5-b7d3-4f4f9d2bd295",
   "metadata": {},
   "outputs": [],
   "source": [
    "morocco_gdf.crs"
   ]
  },
  {
   "cell_type": "code",
   "execution_count": null,
   "id": "c6d3bbfe-266d-445f-9589-bdc449c766d3",
   "metadata": {},
   "outputs": [],
   "source": [
    "def find_all_adm1(ppg_gdf, shapes, adm1_name):\n",
    "    # arbitrarily chose Coordinate Reference System (CRS) to be 4326\n",
    "    ppg_gdf = ppg_gdf.to_crs(4326) \n",
    "    shapes = shapes.to_crs(4326)\n",
    "    boundaries = []\n",
    "    \n",
    "    for people_polygon in ppg_gdf.geometry:\n",
    "        # true false series\n",
    "        overlapping_polygons = shapes.geometry.overlaps(people_polygon)\n",
    "        \n",
    "        # from stack overflow - select series indices based on True values\n",
    "        indices = overlapping_polygons[overlapping_polygons].index.values\n",
    "        \n",
    "        # select the names of the boundaries\n",
    "        all_boundaries_found = shapes.iloc[indices].shapeName.tolist()\n",
    "        \n",
    "        if len(all_boundaries_found) == 0:\n",
    "            boundaries.append('NONE')\n",
    "        else:\n",
    "            # stored in a string to make it look nice in the DataFrame\n",
    "            boundaries_string = ', '.join(all_boundaries_found)\n",
    "            boundaries.append(boundaries_string)\n",
    "            \n",
    "    ppg_gdf[f'{adm1_name}s Present'] = boundaries\n",
    "    # filter out the NONE values\n",
    "    return ppg_gdf[ppg_gdf[f'{adm1_name}s Present'] != 'NONE']"
   ]
  },
  {
   "cell_type": "code",
   "execution_count": null,
   "id": "2a09720d-a5f7-4738-9e1f-8d9751d6ec31",
   "metadata": {},
   "outputs": [],
   "source": [
    "y = find_all_adm1(morocco_gdf, shapes, 'Region')\n",
    "y"
   ]
  },
  {
   "cell_type": "markdown",
   "id": "4c5aa2b0-60ce-434e-a839-da452c392a5b",
   "metadata": {},
   "source": [
    "---"
   ]
  },
  {
   "cell_type": "code",
   "execution_count": 2,
   "id": "0da5c177-44ae-4bb9-9011-a8236466f0f2",
   "metadata": {},
   "outputs": [],
   "source": [
    "import requests # library to handle requests\n",
    "from bs4 import BeautifulSoup # library to parse HTML documents\n",
    "\n",
    "wikiurl = 'https://en.wikipedia.org/wiki/List_of_ISO_3166_country_codes'\n",
    "table_class=\"wikitable sortable jquery-tablesorter\"\n",
    "response=requests.get(wikiurl)\n",
    "\n",
    "soup = BeautifulSoup(response.text, 'html.parser')\n",
    "indiatable = soup.find('table',{'class':\"wikitable\"})\n",
    "\n",
    "iso_country_codes = pd.read_html(str(indiatable))\n",
    "\n",
    "# convert list to dataframe\n",
    "iso_country_codes = pd.DataFrame(iso_country_codes[0]).droplevel(0, axis=1).rename({'Country name[5]':'Country', 'Alpha-3 code[5]':'Alpha 3 code'}, axis=1)\n",
    "\n",
    "iso_country_codes = iso_country_codes[['Country', 'Alpha 3 code']]"
   ]
  },
  {
   "cell_type": "code",
   "execution_count": null,
   "id": "15402b8b-c81a-4573-8d99-a6e7b9cb9347",
   "metadata": {},
   "outputs": [],
   "source": [
    "iso_country_codes"
   ]
  },
  {
   "cell_type": "code",
   "execution_count": null,
   "id": "769783f0-81c4-4e8b-9b86-e1a060e5e42e",
   "metadata": {},
   "outputs": [],
   "source": [
    "cgaz = gpd.read_file('./cgaz/geoBoundariesCGAZ_ADM1.shp', encoding='utf-8')\n",
    "\n",
    "cgaz_named = cgaz.merge(iso_country_codes, left_on='shapeGroup', right_on='Alpha 3 code', how='left').drop(['LEVEL', 'Alpha 3 code'], axis=1).drop([3209, 3210], axis=0)"
   ]
  },
  {
   "cell_type": "code",
   "execution_count": null,
   "id": "5be2628c-2632-48d9-bf78-8a03029565ed",
   "metadata": {},
   "outputs": [],
   "source": [
    "cgaz_named.to_csv('cgaz_named.csv')"
   ]
  },
  {
   "cell_type": "markdown",
   "id": "283cf565-749f-4747-a81b-8bfb593f7aa4",
   "metadata": {},
   "source": [
    "---"
   ]
  },
  {
   "cell_type": "markdown",
   "id": "c31023de-6706-43d9-ad4f-70d41fdefcb3",
   "metadata": {},
   "source": [
    "<hr style=\"border: 5px solid #003262;\" />\n",
    "<hr style=\"border: 1px solid #fdb515;\" />"
   ]
  },
  {
   "cell_type": "markdown",
   "id": "8b7864e5-575f-4752-a968-a3d3762568e6",
   "metadata": {},
   "source": [
    "# Loading data remotely"
   ]
  },
  {
   "cell_type": "code",
   "execution_count": 32,
   "id": "f0e07cc7-0edf-426d-bf13-94298c1d333c",
   "metadata": {},
   "outputs": [],
   "source": [
    "subnational_boundaries = gpd.read_file('https://github.com/andrewjoc/ihs/raw/main/people_groups_verification/data/cgaz.topojson')"
   ]
  },
  {
   "cell_type": "code",
   "execution_count": 34,
   "id": "837cb8e8-896d-40f7-9e60-55fc76e436ad",
   "metadata": {},
   "outputs": [],
   "source": [
    "subnational_population = pd.read_csv('https://github.com/andrewjoc/ihs/raw/main/people_groups_verification/data/subnationalPopulation.csv')"
   ]
  },
  {
   "cell_type": "code",
   "execution_count": 39,
   "id": "4bb1a212-80c3-476e-bc4b-f061b4ca7715",
   "metadata": {},
   "outputs": [],
   "source": [
    "people_points = pd.read_excel('https://github.com/andrewjoc/ihs/raw/main/people_groups_verification/data/People_Groups.xlsx')"
   ]
  },
  {
   "cell_type": "markdown",
   "id": "14f8e44b-2b2a-4aee-bc31-1080517a3dff",
   "metadata": {},
   "source": [
    "### people_areas is from ArcGIS -> ~130 MB which is too large for github\n",
    "### attemped to use LFS but it seems like it doesn't work. interested user must download data from https://go-imb.opendata.arcgis.com/datasets/imb::apg-people-group-areas/explore?location=43.103723%2C70.948650%2C4.70"
   ]
  },
  {
   "cell_type": "code",
   "execution_count": null,
   "id": "6c15c523-bae1-4857-8495-a560fa917614",
   "metadata": {},
   "outputs": [],
   "source": [
    "people_areas = gpd.read_file('data/people_areas.geojson')"
   ]
  },
  {
   "cell_type": "code",
   "execution_count": null,
   "id": "a9b4643e-cbcf-497c-bdbf-3fde2173b06f",
   "metadata": {},
   "outputs": [],
   "source": [
    "people_areas"
   ]
  },
  {
   "cell_type": "code",
   "execution_count": null,
   "id": "c6864a73-cecc-4a5d-99ff-daa2e7ba1d4d",
   "metadata": {},
   "outputs": [],
   "source": []
  }
 ],
 "metadata": {
  "kernelspec": {
   "display_name": "Python 3 (ipykernel)",
   "language": "python",
   "name": "python3"
  },
  "language_info": {
   "codemirror_mode": {
    "name": "ipython",
    "version": 3
   },
   "file_extension": ".py",
   "mimetype": "text/x-python",
   "name": "python",
   "nbconvert_exporter": "python",
   "pygments_lexer": "ipython3",
   "version": "3.10.5"
  }
 },
 "nbformat": 4,
 "nbformat_minor": 5
}
