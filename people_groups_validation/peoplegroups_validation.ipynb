{
 "cells": [
  {
   "cell_type": "markdown",
   "id": "55d6c27a-46a0-4667-8793-85b989e47b57",
   "metadata": {},
   "source": [
    "<hr style=\"border: 5px solid #003262;\" />\n",
    "<hr style=\"border: 1px solid #fdb515;\" />"
   ]
  },
  {
   "cell_type": "markdown",
   "id": "15bc351f-75a0-4d10-bab8-5368ac331e67",
   "metadata": {},
   "source": [
    "# Setup"
   ]
  },
  {
   "cell_type": "markdown",
   "id": "9becb3d4-7065-478b-ae4b-f8c6b0a539f6",
   "metadata": {},
   "source": [
    "* Ensure that you have already downloaded and installed Python on your machine\n",
    "* Now, install the relevant libraries for this project"
   ]
  },
  {
   "cell_type": "code",
   "execution_count": 1,
   "id": "d52b415d-9ede-4069-b2f3-ddc84b370c88",
   "metadata": {},
   "outputs": [],
   "source": [
    "# !pip install pandas\n",
    "# !pip install geopandas\n",
    "# !pip install numpy\n",
    "# !pip install folium\n",
    "# !pip install shapely\n",
    "# !pip install gdown"
   ]
  },
  {
   "cell_type": "code",
   "execution_count": 1,
   "id": "b25ce171-9655-4613-9b0b-2c684c9fdb3a",
   "metadata": {},
   "outputs": [],
   "source": [
    "# run this cell to import libraries\n",
    "import pandas as pd\n",
    "import geopandas as gpd\n",
    "import numpy as np\n",
    "\n",
    "# functions to process PeopleGroups datasets\n",
    "from features import *"
   ]
  },
  {
   "cell_type": "markdown",
   "id": "c074a8e2-28d3-457c-8a89-b92aca845824",
   "metadata": {},
   "source": [
    "### Links\n",
    "* GitHub: https://github.com/andrewjoc/ihs\n",
    "* Google Drive: https://drive.google.com/drive/folders/1_4R9ut87eemnxWH53VN8QCSyRugit27s?usp=sharing"
   ]
  },
  {
   "cell_type": "markdown",
   "id": "d4f6419e-8726-484c-820a-0d45d5896643",
   "metadata": {},
   "source": [
    "### Notes:\n",
    "* It is important to run the cells of this jupyter notebook **sequentially**\n",
    "* If you are just getting started with this notebook, run each cell **individually** because running all cells will take a very long time\n",
    "* Things aren't working as expected? Errors?\n",
    "    * try restarting your kernel and clearing all outputs\n",
    "    * run cells sequentially (from top to bottom)\n",
    "    * is the error explicit in what went wrong? google/stackoverflow probably has an answer\n",
    "    * email Andrew or David\n",
    "* Current implementation only works for validating populations at the ADM1 level."
   ]
  },
  {
   "cell_type": "markdown",
   "id": "7a72e5d3-b143-483f-835d-63e03c0ca354",
   "metadata": {},
   "source": [
    "<hr style=\"border: 5px solid #003262;\" />\n",
    "<hr style=\"border: 1px solid #fdb515;\" />"
   ]
  },
  {
   "cell_type": "markdown",
   "id": "b7e25b0c-d308-4428-99fd-5f6e330600d5",
   "metadata": {},
   "source": [
    "# Validation Code "
   ]
  },
  {
   "cell_type": "markdown",
   "id": "d4d61270-7412-40f9-af6e-e67451e20896",
   "metadata": {},
   "source": [
    "* If you find that there's a country that you'd like to validate but currently has no ADM1 data (according to the output of the function below), feel free to navigate to the `global_adm1_populations.xlsx` spreadsheet in the google drive and manually input the ADM1 data. Be sure to include a source and the year of the population estimate.\n",
    "* uncomment the line below (delete only the #) to view a list of countries ready to be validated"
   ]
  },
  {
   "cell_type": "markdown",
   "id": "9980f5e9-4279-4153-ae5d-a755baf9225a",
   "metadata": {},
   "source": [
    "### Countries that can be Validated (ADM1)"
   ]
  },
  {
   "cell_type": "code",
   "execution_count": 2,
   "id": "4706dd2a-cfcc-4844-93d5-afc3ff374ee3",
   "metadata": {},
   "outputs": [
    {
     "name": "stdout",
     "output_type": "stream",
     "text": [
      "A: \"Afghanistan\"\n",
      "B: \"Bangladesh\", \"Brunei\", \"Burkina Faso\", \"Burundi\"\n",
      "C: \"Cambodia\", \"Chad\", \"Comoros\", \"Congo, Republic of\", \"Cuba\"\n",
      "I: \"India\", \"Indonesia\"\n",
      "J: \"Jamaica\"\n",
      "K: \"Kazakhstan\", \"Kyrgyzstan\"\n",
      "L: \"Laos\"\n",
      "M: \"Malaysia\", \"Myanmar\"\n",
      "N: \"Nauru\"\n",
      "P: \"Papua New Guinea\", \"Philippines\"\n",
      "S: \"Singapore\", \"Suriname\"\n",
      "T: \"Thailand\", \"Timor-Leste\", \"Tonga\", \"Turkmenistan\"\n",
      "V: \"Vietnam\"\n"
     ]
    }
   ],
   "source": [
    "countries_with_data()"
   ]
  },
  {
   "cell_type": "markdown",
   "id": "f1c1ed3a-9aa2-452f-b8a6-9a98eafeeff4",
   "metadata": {},
   "source": [
    " "
   ]
  },
  {
   "cell_type": "markdown",
   "id": "bf8c43dc-aceb-47c0-9ab4-c41fda32c72f",
   "metadata": {},
   "source": [
    "### Validation Function"
   ]
  },
  {
   "cell_type": "markdown",
   "id": "7bfc6e6c-d9d4-481a-9283-f77f572165f2",
   "metadata": {},
   "source": [
    "* only change the country variable\n",
    "* If you get an error, it is either because the country is spelled incorrectly/differently or there is no ADM1 population data available for the country (work in progress)\n",
    "* small countries will take 1-4 minutes (example: Brunei, Vietnam, Philippines)\n",
    "* medium to large size countries (in terms of number of ADM1s) will take anywhere from 8-12 minutes. (examples: Indonesia, India)"
   ]
  },
  {
   "cell_type": "code",
   "execution_count": 3,
   "id": "1390182e-689c-4871-892d-5486a62caf4b",
   "metadata": {},
   "outputs": [
    {
     "name": "stdout",
     "output_type": "stream",
     "text": [
      "Processing input data\n",
      "Finding overlapping polygons\n",
      "All people groups in Brunei are valid.\n"
     ]
    },
    {
     "data": {
      "text/html": [
       "<div>\n",
       "<style scoped>\n",
       "    .dataframe tbody tr th:only-of-type {\n",
       "        vertical-align: middle;\n",
       "    }\n",
       "\n",
       "    .dataframe tbody tr th {\n",
       "        vertical-align: top;\n",
       "    }\n",
       "\n",
       "    .dataframe thead th {\n",
       "        text-align: right;\n",
       "    }\n",
       "</style>\n",
       "<table border=\"1\" class=\"dataframe\">\n",
       "  <thead>\n",
       "    <tr style=\"text-align: right;\">\n",
       "      <th></th>\n",
       "      <th>People Group</th>\n",
       "      <th>Alpha-3 Code</th>\n",
       "      <th>People Group Population</th>\n",
       "      <th>Country</th>\n",
       "      <th>geometry</th>\n",
       "      <th>ADM1 Boundaries Present</th>\n",
       "      <th>Total Boundary Population</th>\n",
       "      <th>Valid People Group</th>\n",
       "      <th>Percent Boundary Population</th>\n",
       "    </tr>\n",
       "  </thead>\n",
       "  <tbody>\n",
       "    <tr>\n",
       "      <th>3039</th>\n",
       "      <td>Tutung</td>\n",
       "      <td>BRN</td>\n",
       "      <td>17500</td>\n",
       "      <td>Brunei</td>\n",
       "      <td>MULTIPOLYGON (((114.76083 4.88447, 114.76488 4...</td>\n",
       "      <td>[Belait, Brunei-Muara, Tutong]</td>\n",
       "      <td>432131.0</td>\n",
       "      <td>True</td>\n",
       "      <td>4.049698</td>\n",
       "    </tr>\n",
       "    <tr>\n",
       "      <th>4461</th>\n",
       "      <td>Bisayan Tutong</td>\n",
       "      <td>BRN</td>\n",
       "      <td>29000</td>\n",
       "      <td>Brunei</td>\n",
       "      <td>MULTIPOLYGON (((114.80305 4.65803, 114.80081 4...</td>\n",
       "      <td>[Belait, Brunei-Muara, Tutong]</td>\n",
       "      <td>432131.0</td>\n",
       "      <td>True</td>\n",
       "      <td>6.710928</td>\n",
       "    </tr>\n",
       "    <tr>\n",
       "      <th>4942</th>\n",
       "      <td>Brunei Malay</td>\n",
       "      <td>BRN</td>\n",
       "      <td>328000</td>\n",
       "      <td>Brunei</td>\n",
       "      <td>MULTIPOLYGON (((115.06276 5.03770, 115.07354 5...</td>\n",
       "      <td>[Belait, Brunei-Muara, Temburong, Tutong]</td>\n",
       "      <td>441631.0</td>\n",
       "      <td>True</td>\n",
       "      <td>74.270149</td>\n",
       "    </tr>\n",
       "    <tr>\n",
       "      <th>5876</th>\n",
       "      <td>Gurkha</td>\n",
       "      <td>BRN</td>\n",
       "      <td>1700</td>\n",
       "      <td>Brunei</td>\n",
       "      <td>MULTIPOLYGON (((115.06276 5.03770, 115.07354 5...</td>\n",
       "      <td>[Brunei-Muara]</td>\n",
       "      <td>319300.0</td>\n",
       "      <td>True</td>\n",
       "      <td>0.532415</td>\n",
       "    </tr>\n",
       "    <tr>\n",
       "      <th>5892</th>\n",
       "      <td>Punan</td>\n",
       "      <td>BRN</td>\n",
       "      <td>80</td>\n",
       "      <td>Brunei</td>\n",
       "      <td>MULTIPOLYGON (((114.45625 4.38532, 114.47203 4...</td>\n",
       "      <td>[Belait]</td>\n",
       "      <td>65531.0</td>\n",
       "      <td>True</td>\n",
       "      <td>0.122080</td>\n",
       "    </tr>\n",
       "    <tr>\n",
       "      <th>7409</th>\n",
       "      <td>British</td>\n",
       "      <td>BRN</td>\n",
       "      <td>6600</td>\n",
       "      <td>Brunei</td>\n",
       "      <td>MULTIPOLYGON (((115.06276 5.03770, 115.07354 5...</td>\n",
       "      <td>[Brunei-Muara]</td>\n",
       "      <td>319300.0</td>\n",
       "      <td>True</td>\n",
       "      <td>2.067022</td>\n",
       "    </tr>\n",
       "    <tr>\n",
       "      <th>7820</th>\n",
       "      <td>Indo-Pakistani</td>\n",
       "      <td>BRN</td>\n",
       "      <td>11500</td>\n",
       "      <td>Brunei</td>\n",
       "      <td>MULTIPOLYGON (((115.06276 5.03770, 115.07354 5...</td>\n",
       "      <td>[Brunei-Muara]</td>\n",
       "      <td>319300.0</td>\n",
       "      <td>True</td>\n",
       "      <td>3.601629</td>\n",
       "    </tr>\n",
       "    <tr>\n",
       "      <th>7905</th>\n",
       "      <td>Dusun</td>\n",
       "      <td>BRN</td>\n",
       "      <td>31500</td>\n",
       "      <td>Brunei</td>\n",
       "      <td>MULTIPOLYGON (((115.06276 5.03770, 115.07354 5...</td>\n",
       "      <td>[Brunei-Muara]</td>\n",
       "      <td>319300.0</td>\n",
       "      <td>True</td>\n",
       "      <td>9.865330</td>\n",
       "    </tr>\n",
       "    <tr>\n",
       "      <th>8335</th>\n",
       "      <td>Han Chinese</td>\n",
       "      <td>BRN</td>\n",
       "      <td>7900</td>\n",
       "      <td>Brunei</td>\n",
       "      <td>MULTIPOLYGON (((115.06276 5.03770, 115.07354 5...</td>\n",
       "      <td>[Brunei-Muara]</td>\n",
       "      <td>319300.0</td>\n",
       "      <td>True</td>\n",
       "      <td>2.474162</td>\n",
       "    </tr>\n",
       "    <tr>\n",
       "      <th>9988</th>\n",
       "      <td>Iban</td>\n",
       "      <td>BRN</td>\n",
       "      <td>20000</td>\n",
       "      <td>Brunei</td>\n",
       "      <td>MULTIPOLYGON (((114.81925 4.50731, 114.81856 4...</td>\n",
       "      <td>[Belait, Temburong, Tutong]</td>\n",
       "      <td>122331.0</td>\n",
       "      <td>True</td>\n",
       "      <td>16.349086</td>\n",
       "    </tr>\n",
       "    <tr>\n",
       "      <th>10035</th>\n",
       "      <td>Southern Murut</td>\n",
       "      <td>BRN</td>\n",
       "      <td>1900</td>\n",
       "      <td>Brunei</td>\n",
       "      <td>MULTIPOLYGON (((114.59836 4.55320, 114.63647 4...</td>\n",
       "      <td>[Belait, Tutong]</td>\n",
       "      <td>112831.0</td>\n",
       "      <td>True</td>\n",
       "      <td>1.683934</td>\n",
       "    </tr>\n",
       "    <tr>\n",
       "      <th>10515</th>\n",
       "      <td>Deaf Bruneian</td>\n",
       "      <td>BRN</td>\n",
       "      <td>2100</td>\n",
       "      <td>Brunei</td>\n",
       "      <td>MULTIPOLYGON (((115.06276 5.03770, 115.07354 5...</td>\n",
       "      <td>[Belait, Brunei-Muara, Temburong, Tutong]</td>\n",
       "      <td>441631.0</td>\n",
       "      <td>True</td>\n",
       "      <td>0.475510</td>\n",
       "    </tr>\n",
       "  </tbody>\n",
       "</table>\n",
       "</div>"
      ],
      "text/plain": [
       "         People Group Alpha-3 Code  People Group Population Country  \\\n",
       "3039           Tutung          BRN                    17500  Brunei   \n",
       "4461   Bisayan Tutong          BRN                    29000  Brunei   \n",
       "4942     Brunei Malay          BRN                   328000  Brunei   \n",
       "5876           Gurkha          BRN                     1700  Brunei   \n",
       "5892            Punan          BRN                       80  Brunei   \n",
       "7409          British          BRN                     6600  Brunei   \n",
       "7820   Indo-Pakistani          BRN                    11500  Brunei   \n",
       "7905            Dusun          BRN                    31500  Brunei   \n",
       "8335      Han Chinese          BRN                     7900  Brunei   \n",
       "9988             Iban          BRN                    20000  Brunei   \n",
       "10035  Southern Murut          BRN                     1900  Brunei   \n",
       "10515  Deaf Bruneian           BRN                     2100  Brunei   \n",
       "\n",
       "                                                geometry  \\\n",
       "3039   MULTIPOLYGON (((114.76083 4.88447, 114.76488 4...   \n",
       "4461   MULTIPOLYGON (((114.80305 4.65803, 114.80081 4...   \n",
       "4942   MULTIPOLYGON (((115.06276 5.03770, 115.07354 5...   \n",
       "5876   MULTIPOLYGON (((115.06276 5.03770, 115.07354 5...   \n",
       "5892   MULTIPOLYGON (((114.45625 4.38532, 114.47203 4...   \n",
       "7409   MULTIPOLYGON (((115.06276 5.03770, 115.07354 5...   \n",
       "7820   MULTIPOLYGON (((115.06276 5.03770, 115.07354 5...   \n",
       "7905   MULTIPOLYGON (((115.06276 5.03770, 115.07354 5...   \n",
       "8335   MULTIPOLYGON (((115.06276 5.03770, 115.07354 5...   \n",
       "9988   MULTIPOLYGON (((114.81925 4.50731, 114.81856 4...   \n",
       "10035  MULTIPOLYGON (((114.59836 4.55320, 114.63647 4...   \n",
       "10515  MULTIPOLYGON (((115.06276 5.03770, 115.07354 5...   \n",
       "\n",
       "                         ADM1 Boundaries Present  Total Boundary Population  \\\n",
       "3039              [Belait, Brunei-Muara, Tutong]                   432131.0   \n",
       "4461              [Belait, Brunei-Muara, Tutong]                   432131.0   \n",
       "4942   [Belait, Brunei-Muara, Temburong, Tutong]                   441631.0   \n",
       "5876                              [Brunei-Muara]                   319300.0   \n",
       "5892                                    [Belait]                    65531.0   \n",
       "7409                              [Brunei-Muara]                   319300.0   \n",
       "7820                              [Brunei-Muara]                   319300.0   \n",
       "7905                              [Brunei-Muara]                   319300.0   \n",
       "8335                              [Brunei-Muara]                   319300.0   \n",
       "9988                 [Belait, Temburong, Tutong]                   122331.0   \n",
       "10035                           [Belait, Tutong]                   112831.0   \n",
       "10515  [Belait, Brunei-Muara, Temburong, Tutong]                   441631.0   \n",
       "\n",
       "       Valid People Group  Percent Boundary Population  \n",
       "3039                 True                     4.049698  \n",
       "4461                 True                     6.710928  \n",
       "4942                 True                    74.270149  \n",
       "5876                 True                     0.532415  \n",
       "5892                 True                     0.122080  \n",
       "7409                 True                     2.067022  \n",
       "7820                 True                     3.601629  \n",
       "7905                 True                     9.865330  \n",
       "8335                 True                     2.474162  \n",
       "9988                 True                    16.349086  \n",
       "10035                True                     1.683934  \n",
       "10515                True                     0.475510  "
      ]
     },
     "execution_count": 3,
     "metadata": {},
     "output_type": "execute_result"
    }
   ],
   "source": [
    "country = \"Brunei\"\n",
    "\n",
    "# no need to edit anything below this line\n",
    "results = validate_country(country, verbose=True)\n",
    "results"
   ]
  },
  {
   "cell_type": "markdown",
   "id": "7af7aba3-5d1a-4e53-8295-5c56880825d0",
   "metadata": {},
   "source": [
    "<hr style=\"border: 5px solid #003262;\" />\n",
    "<hr style=\"border: 1px solid #fdb515;\" />"
   ]
  },
  {
   "cell_type": "markdown",
   "id": "e35cb4ad-5260-48a4-ad7c-bdb8f6286230",
   "metadata": {},
   "source": [
    "# Map"
   ]
  },
  {
   "cell_type": "markdown",
   "id": "0d1f4432-901b-4631-bc1c-54a749cab365",
   "metadata": {},
   "source": [
    "* If the country you validated in the section before noted that all people groups in the country were valid, this section is irrelevant\n",
    "* You should be able to view a map of the people groups that did not intersect with an ADM1 boundary  "
   ]
  },
  {
   "cell_type": "code",
   "execution_count": 16,
   "id": "6337233f-4264-4a6b-ae88-23128ec43711",
   "metadata": {},
   "outputs": [
    {
     "name": "stdout",
     "output_type": "stream",
     "text": [
      "This country has no people groups that did not intersect with ADM1 boundaries.\n"
     ]
    }
   ],
   "source": [
    "map_results(results)"
   ]
  },
  {
   "cell_type": "markdown",
   "id": "711b45ff-dee5-40a8-aefc-9e3e63ded39d",
   "metadata": {},
   "source": [
    "<hr style=\"border: 5px solid #003262;\" />\n",
    "<hr style=\"border: 1px solid #fdb515;\" />"
   ]
  },
  {
   "cell_type": "markdown",
   "id": "c5dcbed0-4bd5-4294-8e2f-8bb9103fd288",
   "metadata": {},
   "source": [
    "# Saving Results"
   ]
  },
  {
   "cell_type": "markdown",
   "id": "f7323093-aae4-4be5-944e-8b63dd8dfc56",
   "metadata": {},
   "source": [
    "* optional section to save your work from above"
   ]
  },
  {
   "cell_type": "markdown",
   "id": "1f24826b-002c-492c-9df1-06d6f5fa5c68",
   "metadata": {},
   "source": [
    "### CSV file"
   ]
  },
  {
   "cell_type": "code",
   "execution_count": 15,
   "id": "22f953ba-bed7-4190-bc77-f5b4969fe212",
   "metadata": {},
   "outputs": [],
   "source": [
    "# run this cell to save the results from above as a csv file\n",
    "import os\n",
    "\n",
    "if os.path.isdir('output'):\n",
    "    pass\n",
    "else:\n",
    "    os.mkdir('output')\n",
    "    \n",
    "results.to_csv(f'./output/{country}_validated.csv')"
   ]
  },
  {
   "cell_type": "markdown",
   "id": "01d3344b-dc57-4239-a0a3-3000bafc40fe",
   "metadata": {},
   "source": [
    "### Excel"
   ]
  },
  {
   "cell_type": "code",
   "execution_count": 14,
   "id": "859dd352-872b-4fa6-bb11-bcbb227c901f",
   "metadata": {},
   "outputs": [],
   "source": [
    "# run this cell to save the results from above as an xlsx file\n",
    "if os.path.isdir('output'):\n",
    "    pass\n",
    "else:\n",
    "    os.mkdir('output')\n",
    "\n",
    "results.to_excel(f'./output/{country}_validated.xlsx')"
   ]
  }
 ],
 "metadata": {
  "kernelspec": {
   "display_name": "Python 3 (ipykernel)",
   "language": "python",
   "name": "python3"
  },
  "language_info": {
   "codemirror_mode": {
    "name": "ipython",
    "version": 3
   },
   "file_extension": ".py",
   "mimetype": "text/x-python",
   "name": "python",
   "nbconvert_exporter": "python",
   "pygments_lexer": "ipython3",
   "version": "3.10.5"
  }
 },
 "nbformat": 4,
 "nbformat_minor": 5
}
