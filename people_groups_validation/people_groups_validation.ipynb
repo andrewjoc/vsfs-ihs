{
 "cells": [
  {
   "cell_type": "code",
   "execution_count": 10,
   "id": "b25ce171-9655-4613-9b0b-2c684c9fdb3a",
   "metadata": {},
   "outputs": [],
   "source": [
    "import pandas as pd\n",
    "import geopandas as gpd\n",
    "import numpy as np\n",
    "import warnings\n",
    "from shapely.errors import ShapelyDeprecationWarning\n",
    "warnings.filterwarnings(\"ignore\", category=ShapelyDeprecationWarning) \n",
    "\n",
    "# functions to process PeopleGroups datasets\n",
    "from features import *"
   ]
  },
  {
   "cell_type": "code",
   "execution_count": 11,
   "id": "9e1d18b0-1368-44bd-85eb-cb94fc168d06",
   "metadata": {},
   "outputs": [],
   "source": [
    "people_areas, subnational_data = process_input_data()"
   ]
  },
  {
   "cell_type": "markdown",
   "id": "7a72e5d3-b143-483f-835d-63e03c0ca354",
   "metadata": {},
   "source": [
    "<hr style=\"border: 5px solid #003262;\" />\n",
    "<hr style=\"border: 1px solid #fdb515;\" />"
   ]
  },
  {
   "cell_type": "markdown",
   "id": "96e00ce2-fbb2-4731-a8f6-5d5c05c905fb",
   "metadata": {
    "tags": []
   },
   "source": [
    "# Instructions"
   ]
  },
  {
   "cell_type": "markdown",
   "id": "a03f6be5-a518-497f-96a7-0f43424bd148",
   "metadata": {},
   "source": [
    "* Make sure to download the data folder from the google drive and that it is in the `people_groups_validation` folder\n",
    "* In the section below, only change the `country` variable."
   ]
  },
  {
   "cell_type": "code",
   "execution_count": 36,
   "id": "a0f7d4da-548c-4400-90ef-55d5e077fb38",
   "metadata": {},
   "outputs": [],
   "source": [
    "# uncomment the line below to view a list of countries to validate\n",
    "# sorted(people_areas['Country'].unique())"
   ]
  },
  {
   "cell_type": "markdown",
   "id": "412c7df5",
   "metadata": {},
   "source": [
    "<hr style=\"border: 5px solid #003262;\" />\n",
    "<hr style=\"border: 1px solid #fdb515;\" />"
   ]
  },
  {
   "cell_type": "markdown",
   "id": "b7e25b0c-d308-4428-99fd-5f6e330600d5",
   "metadata": {},
   "source": [
    "# Validation Code "
   ]
  },
  {
   "cell_type": "markdown",
   "id": "7bfc6e6c-d9d4-481a-9283-f77f572165f2",
   "metadata": {},
   "source": [
    "* If you get an error, it is either because the country is spelled incorrectly/differently or there is no ADM1 population data available for the country (work in progress)"
   ]
  },
  {
   "cell_type": "code",
   "execution_count": 37,
   "id": "1390182e-689c-4871-892d-5486a62caf4b",
   "metadata": {},
   "outputs": [
    {
     "name": "stdout",
     "output_type": "stream",
     "text": [
      "All people groups in Brunei are valid.\n"
     ]
    },
    {
     "data": {
      "text/html": [
       "<div>\n",
       "<style scoped>\n",
       "    .dataframe tbody tr th:only-of-type {\n",
       "        vertical-align: middle;\n",
       "    }\n",
       "\n",
       "    .dataframe tbody tr th {\n",
       "        vertical-align: top;\n",
       "    }\n",
       "\n",
       "    .dataframe thead th {\n",
       "        text-align: right;\n",
       "    }\n",
       "</style>\n",
       "<table border=\"1\" class=\"dataframe\">\n",
       "  <thead>\n",
       "    <tr style=\"text-align: right;\">\n",
       "      <th></th>\n",
       "      <th>People Group</th>\n",
       "      <th>Alpha-3 Code</th>\n",
       "      <th>People Group Population</th>\n",
       "      <th>Country</th>\n",
       "      <th>geometry</th>\n",
       "      <th>ADM1 Boundaries Present</th>\n",
       "      <th>Total Boundary Population</th>\n",
       "      <th>Valid People Group</th>\n",
       "    </tr>\n",
       "  </thead>\n",
       "  <tbody>\n",
       "    <tr>\n",
       "      <th>3039</th>\n",
       "      <td>Tutung</td>\n",
       "      <td>BRN</td>\n",
       "      <td>17500</td>\n",
       "      <td>Brunei</td>\n",
       "      <td>MULTIPOLYGON (((114.76083 4.88447, 114.76488 4...</td>\n",
       "      <td>[Belait, Brunei-Muara, Tutong]</td>\n",
       "      <td>432131.0</td>\n",
       "      <td>True</td>\n",
       "    </tr>\n",
       "    <tr>\n",
       "      <th>4461</th>\n",
       "      <td>Bisayan Tutong</td>\n",
       "      <td>BRN</td>\n",
       "      <td>29000</td>\n",
       "      <td>Brunei</td>\n",
       "      <td>MULTIPOLYGON (((114.80305 4.65803, 114.80081 4...</td>\n",
       "      <td>[Belait, Brunei-Muara, Tutong]</td>\n",
       "      <td>432131.0</td>\n",
       "      <td>True</td>\n",
       "    </tr>\n",
       "    <tr>\n",
       "      <th>4942</th>\n",
       "      <td>Brunei Malay</td>\n",
       "      <td>BRN</td>\n",
       "      <td>328000</td>\n",
       "      <td>Brunei</td>\n",
       "      <td>MULTIPOLYGON (((115.06276 5.03770, 115.07354 5...</td>\n",
       "      <td>[Belait, Brunei-Muara, Temburong, Tutong]</td>\n",
       "      <td>441631.0</td>\n",
       "      <td>True</td>\n",
       "    </tr>\n",
       "    <tr>\n",
       "      <th>5876</th>\n",
       "      <td>Gurkha</td>\n",
       "      <td>BRN</td>\n",
       "      <td>1700</td>\n",
       "      <td>Brunei</td>\n",
       "      <td>MULTIPOLYGON (((115.06276 5.03770, 115.07354 5...</td>\n",
       "      <td>[Brunei-Muara]</td>\n",
       "      <td>319300.0</td>\n",
       "      <td>True</td>\n",
       "    </tr>\n",
       "    <tr>\n",
       "      <th>5892</th>\n",
       "      <td>Punan</td>\n",
       "      <td>BRN</td>\n",
       "      <td>80</td>\n",
       "      <td>Brunei</td>\n",
       "      <td>MULTIPOLYGON (((114.45625 4.38532, 114.47203 4...</td>\n",
       "      <td>[Belait]</td>\n",
       "      <td>65531.0</td>\n",
       "      <td>True</td>\n",
       "    </tr>\n",
       "    <tr>\n",
       "      <th>7409</th>\n",
       "      <td>British</td>\n",
       "      <td>BRN</td>\n",
       "      <td>6600</td>\n",
       "      <td>Brunei</td>\n",
       "      <td>MULTIPOLYGON (((115.06276 5.03770, 115.07354 5...</td>\n",
       "      <td>[Brunei-Muara]</td>\n",
       "      <td>319300.0</td>\n",
       "      <td>True</td>\n",
       "    </tr>\n",
       "    <tr>\n",
       "      <th>7820</th>\n",
       "      <td>Indo-Pakistani</td>\n",
       "      <td>BRN</td>\n",
       "      <td>11500</td>\n",
       "      <td>Brunei</td>\n",
       "      <td>MULTIPOLYGON (((115.06276 5.03770, 115.07354 5...</td>\n",
       "      <td>[Brunei-Muara]</td>\n",
       "      <td>319300.0</td>\n",
       "      <td>True</td>\n",
       "    </tr>\n",
       "    <tr>\n",
       "      <th>7905</th>\n",
       "      <td>Dusun</td>\n",
       "      <td>BRN</td>\n",
       "      <td>31500</td>\n",
       "      <td>Brunei</td>\n",
       "      <td>MULTIPOLYGON (((115.06276 5.03770, 115.07354 5...</td>\n",
       "      <td>[Brunei-Muara]</td>\n",
       "      <td>319300.0</td>\n",
       "      <td>True</td>\n",
       "    </tr>\n",
       "    <tr>\n",
       "      <th>8335</th>\n",
       "      <td>Han Chinese</td>\n",
       "      <td>BRN</td>\n",
       "      <td>7900</td>\n",
       "      <td>Brunei</td>\n",
       "      <td>MULTIPOLYGON (((115.06276 5.03770, 115.07354 5...</td>\n",
       "      <td>[Brunei-Muara]</td>\n",
       "      <td>319300.0</td>\n",
       "      <td>True</td>\n",
       "    </tr>\n",
       "    <tr>\n",
       "      <th>9988</th>\n",
       "      <td>Iban</td>\n",
       "      <td>BRN</td>\n",
       "      <td>20000</td>\n",
       "      <td>Brunei</td>\n",
       "      <td>MULTIPOLYGON (((114.81925 4.50731, 114.81856 4...</td>\n",
       "      <td>[Belait, Temburong, Tutong]</td>\n",
       "      <td>122331.0</td>\n",
       "      <td>True</td>\n",
       "    </tr>\n",
       "    <tr>\n",
       "      <th>10035</th>\n",
       "      <td>Southern Murut</td>\n",
       "      <td>BRN</td>\n",
       "      <td>1900</td>\n",
       "      <td>Brunei</td>\n",
       "      <td>MULTIPOLYGON (((114.59836 4.55320, 114.63647 4...</td>\n",
       "      <td>[Belait, Tutong]</td>\n",
       "      <td>112831.0</td>\n",
       "      <td>True</td>\n",
       "    </tr>\n",
       "    <tr>\n",
       "      <th>10515</th>\n",
       "      <td>Deaf Bruneian</td>\n",
       "      <td>BRN</td>\n",
       "      <td>2100</td>\n",
       "      <td>Brunei</td>\n",
       "      <td>MULTIPOLYGON (((115.06276 5.03770, 115.07354 5...</td>\n",
       "      <td>[Belait, Brunei-Muara, Temburong, Tutong]</td>\n",
       "      <td>441631.0</td>\n",
       "      <td>True</td>\n",
       "    </tr>\n",
       "  </tbody>\n",
       "</table>\n",
       "</div>"
      ],
      "text/plain": [
       "         People Group Alpha-3 Code  People Group Population Country  \\\n",
       "3039           Tutung          BRN                    17500  Brunei   \n",
       "4461   Bisayan Tutong          BRN                    29000  Brunei   \n",
       "4942     Brunei Malay          BRN                   328000  Brunei   \n",
       "5876           Gurkha          BRN                     1700  Brunei   \n",
       "5892            Punan          BRN                       80  Brunei   \n",
       "7409          British          BRN                     6600  Brunei   \n",
       "7820   Indo-Pakistani          BRN                    11500  Brunei   \n",
       "7905            Dusun          BRN                    31500  Brunei   \n",
       "8335      Han Chinese          BRN                     7900  Brunei   \n",
       "9988             Iban          BRN                    20000  Brunei   \n",
       "10035  Southern Murut          BRN                     1900  Brunei   \n",
       "10515  Deaf Bruneian           BRN                     2100  Brunei   \n",
       "\n",
       "                                                geometry  \\\n",
       "3039   MULTIPOLYGON (((114.76083 4.88447, 114.76488 4...   \n",
       "4461   MULTIPOLYGON (((114.80305 4.65803, 114.80081 4...   \n",
       "4942   MULTIPOLYGON (((115.06276 5.03770, 115.07354 5...   \n",
       "5876   MULTIPOLYGON (((115.06276 5.03770, 115.07354 5...   \n",
       "5892   MULTIPOLYGON (((114.45625 4.38532, 114.47203 4...   \n",
       "7409   MULTIPOLYGON (((115.06276 5.03770, 115.07354 5...   \n",
       "7820   MULTIPOLYGON (((115.06276 5.03770, 115.07354 5...   \n",
       "7905   MULTIPOLYGON (((115.06276 5.03770, 115.07354 5...   \n",
       "8335   MULTIPOLYGON (((115.06276 5.03770, 115.07354 5...   \n",
       "9988   MULTIPOLYGON (((114.81925 4.50731, 114.81856 4...   \n",
       "10035  MULTIPOLYGON (((114.59836 4.55320, 114.63647 4...   \n",
       "10515  MULTIPOLYGON (((115.06276 5.03770, 115.07354 5...   \n",
       "\n",
       "                         ADM1 Boundaries Present  Total Boundary Population  \\\n",
       "3039              [Belait, Brunei-Muara, Tutong]                   432131.0   \n",
       "4461              [Belait, Brunei-Muara, Tutong]                   432131.0   \n",
       "4942   [Belait, Brunei-Muara, Temburong, Tutong]                   441631.0   \n",
       "5876                              [Brunei-Muara]                   319300.0   \n",
       "5892                                    [Belait]                    65531.0   \n",
       "7409                              [Brunei-Muara]                   319300.0   \n",
       "7820                              [Brunei-Muara]                   319300.0   \n",
       "7905                              [Brunei-Muara]                   319300.0   \n",
       "8335                              [Brunei-Muara]                   319300.0   \n",
       "9988                 [Belait, Temburong, Tutong]                   122331.0   \n",
       "10035                           [Belait, Tutong]                   112831.0   \n",
       "10515  [Belait, Brunei-Muara, Temburong, Tutong]                   441631.0   \n",
       "\n",
       "       Valid People Group  \n",
       "3039                 True  \n",
       "4461                 True  \n",
       "4942                 True  \n",
       "5876                 True  \n",
       "5892                 True  \n",
       "7409                 True  \n",
       "7820                 True  \n",
       "7905                 True  \n",
       "8335                 True  \n",
       "9988                 True  \n",
       "10035                True  \n",
       "10515                True  "
      ]
     },
     "execution_count": 37,
     "metadata": {},
     "output_type": "execute_result"
    }
   ],
   "source": [
    "country = \"Brunei\"\n",
    "\n",
    "results = validate_country(people_areas, subnational_data, country, True)\n",
    "results"
   ]
  },
  {
   "cell_type": "markdown",
   "id": "7af7aba3-5d1a-4e53-8295-5c56880825d0",
   "metadata": {},
   "source": [
    "<hr style=\"border: 5px solid #003262;\" />\n",
    "<hr style=\"border: 1px solid #fdb515;\" />"
   ]
  },
  {
   "cell_type": "markdown",
   "id": "c5dcbed0-4bd5-4294-8e2f-8bb9103fd288",
   "metadata": {},
   "source": [
    "# Saving Results"
   ]
  },
  {
   "cell_type": "markdown",
   "id": "f7323093-aae4-4be5-944e-8b63dd8dfc56",
   "metadata": {},
   "source": [
    "* uncomment the cells below (delete the #) to save it as a certain file format"
   ]
  },
  {
   "cell_type": "markdown",
   "id": "1f24826b-002c-492c-9df1-06d6f5fa5c68",
   "metadata": {},
   "source": [
    "### CSV file"
   ]
  },
  {
   "cell_type": "code",
   "execution_count": 24,
   "id": "22f953ba-bed7-4190-bc77-f5b4969fe212",
   "metadata": {},
   "outputs": [],
   "source": [
    "# results.to_csv(f'./output/{country}_validated.csv')"
   ]
  },
  {
   "cell_type": "markdown",
   "id": "01d3344b-dc57-4239-a0a3-3000bafc40fe",
   "metadata": {},
   "source": [
    "### Excel"
   ]
  },
  {
   "cell_type": "code",
   "execution_count": 25,
   "id": "859dd352-872b-4fa6-bb11-bcbb227c901f",
   "metadata": {},
   "outputs": [],
   "source": [
    "# results.to_excel(f'./output/{country}_validated.xlsx')"
   ]
  }
 ],
 "metadata": {
  "kernelspec": {
   "display_name": "Python 3 (ipykernel)",
   "language": "python",
   "name": "python3"
  },
  "language_info": {
   "codemirror_mode": {
    "name": "ipython",
    "version": 3
   },
   "file_extension": ".py",
   "mimetype": "text/x-python",
   "name": "python",
   "nbconvert_exporter": "python",
   "pygments_lexer": "ipython3",
   "version": "3.10.5"
  }
 },
 "nbformat": 4,
 "nbformat_minor": 5
}
