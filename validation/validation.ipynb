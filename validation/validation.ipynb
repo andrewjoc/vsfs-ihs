{
 "cells": [
  {
   "cell_type": "markdown",
   "id": "0b01c0dc-ce75-4472-b98c-cf8677c4ea0c",
   "metadata": {
    "tags": []
   },
   "source": [
    "<table align=\"left\" style=\"width:100%\">\n",
    "  <tr>\n",
    "      <td style=\"width:15%\"></td>\n",
    "      <td style=\"width:85%\"></td>\n",
    "  </tr>\n",
    "  <tr>\n",
    "    <td style=\"width:10%\">\n",
    "        <img style=\"float\" src=\"./data/images/ihs-logo.png\" alt=\"IHS Logo\" style=\"width: 10px;\"/>\n",
    "      </td>\n",
    "    <td align =\"left\" style=\"width:20%\">\n",
    "        <div>\n",
    "            <h2 style=\"margin-top: 0;\">People Groups Validation Notebook</h2>\n",
    "            <h5 style=\"margin-top: 5px;\">Author: Andrew O'Connor</h5>\n",
    "            <h7 style=\"margin-top: 5px;\">Contributors: David Getzen</h7>\n",
    "            </div>\n",
    "      </td>\n",
    "  </tr>\n",
    "</table>"
   ]
  },
  {
   "cell_type": "markdown",
   "id": "cef4c19b-9029-4c38-8545-bd5d54b53289",
   "metadata": {},
   "source": [
    "# Introduction\n",
    "* The purpose of this notebook is to validate the `Population` attribute of each People Group in the People Group Areas (.geojson) dataset\n",
    "    * Main Question: Is the population of each People Group less than or equal to the official population of all the level-specific administrative divisions the group intersects?"
   ]
  },
  {
   "cell_type": "markdown",
   "id": "4099185f-c87c-431b-b762-989fec292d3c",
   "metadata": {},
   "source": [
    "### Using this Notebook\n",
    "* It is important to run the cells of this jupyter notebook **sequentially**\n",
    "* If you are just getting started with this notebook, run each cell **individually**\n",
    "* Things aren't working as expected/errors?\n",
    "    * Restart your kernel and clear all outputs\n",
    "    * Run cells sequentially (from top to bottom)\n",
    "    * Search for your error on Google/Stackoverflow\n",
    "    * Email Andrew or David"
   ]
  },
  {
   "cell_type": "markdown",
   "id": "3707e9e6-895f-455c-bd7d-5202d2b96df2",
   "metadata": {},
   "source": [
    "### Attributions/Links\n",
    "* GitHub: https://github.com/andrewjoc/ihs\n",
    "* Google Drive: https://drive.google.com/drive/folders/1_4R9ut87eemnxWH53VN8QCSyRugit27s?usp=sharing\n",
    "* People Group Areas: https://go-imb.opendata.arcgis.com/datasets/imb::apg-people-group-areas/about\n",
    "    * This information was provided by *The International Mission Board - Global Research*, March 2022, www.peoplegroups.org.\n",
    "* Subnational population & Boundaries: https://fieldmaps.io/ (Max Malynowsky)\n",
    "    * Subnational Population: Common Operational Datasets\n",
    "    * Subnational Boundaries: Humanitarian\n",
    "    * Attribution: FieldMaps, geoBoundaries, U.S. Department of State, U.S. Geological Survey\n",
    "    * License: Creative Commons Attribution 4.0 International (CC BY 4.0)"
   ]
  },
  {
   "cell_type": "markdown",
   "id": "4b3735cc-2326-487a-b911-18f918cab617",
   "metadata": {},
   "source": [
    "<hr style=\"border: 5px solid #005555;\" />\n",
    "<hr style=\"border: 1px solid #mkl234;\" />"
   ]
  },
  {
   "cell_type": "markdown",
   "id": "69d02cbf-dd75-48ad-82e4-4f703f43de85",
   "metadata": {},
   "source": [
    "# Validation Code"
   ]
  },
  {
   "cell_type": "code",
   "execution_count": 1,
   "id": "97a86d6b-d1d9-41e8-9e1d-8584f0449c2f",
   "metadata": {},
   "outputs": [],
   "source": [
    "# important! - run this cell \n",
    "from functions import *"
   ]
  },
  {
   "cell_type": "markdown",
   "id": "d9fba1be-12ec-4757-990a-89b6a736379c",
   "metadata": {},
   "source": [
    "### Instructions\n",
    "* Search for an area to validate by looking at the `country_inputs.txt` file\n",
    "    * Ensure that you spell the country/territory correctly when you assign it to the `country` variable \n",
    "* If you see the message \"IOStream.flush timed out\", ignore it\n",
    "* Setting adm_level = to 3 or 4 may cause you to run into memory issues\n",
    "    * Consider starting with adm_level = 1 and work up to adm_level = 4\n",
    "* If you're interested in seeing the directory structure of the project, uncomment the cell below by deleting only the `#` symbol"
   ]
  },
  {
   "cell_type": "code",
   "execution_count": 2,
   "id": "40635293-692a-4b3e-948c-1cd46e0d08fb",
   "metadata": {},
   "outputs": [],
   "source": [
    "# view_project_structure()"
   ]
  },
  {
   "cell_type": "markdown",
   "id": "6d600425-b334-48d5-afa1-0bb991ddafbf",
   "metadata": {},
   "source": [
    "---"
   ]
  },
  {
   "cell_type": "markdown",
   "id": "7bd9376f-0549-46b2-a2e9-cfff9e53bd19",
   "metadata": {},
   "source": [
    "### 1. Check what tests are available for the country"
   ]
  },
  {
   "cell_type": "code",
   "execution_count": 3,
   "id": "2214c98b-7fc1-4b19-ab45-08192eb48420",
   "metadata": {},
   "outputs": [
    {
     "data": {
      "application/vnd.jupyter.widget-view+json": {
       "model_id": "4f0669c4a43540608a1c747a5a8bb6a7",
       "version_major": 2,
       "version_minor": 0
      },
      "text/plain": [
       "interactive(children=(Dropdown(description='country', options=('Afghanistan', 'Albania', 'Algeria', 'American …"
      ]
     },
     "metadata": {},
     "output_type": "display_data"
    }
   ],
   "source": [
    "available_tests_widget();"
   ]
  },
  {
   "cell_type": "markdown",
   "id": "43b12c91-ab7e-4252-9957-50c9f6088b3d",
   "metadata": {},
   "source": [
    "--- "
   ]
  },
  {
   "cell_type": "markdown",
   "id": "1534d80d-be5e-4a4f-a3c0-f30e5879f58f",
   "metadata": {},
   "source": [
    "### 2. Run the Validation Code"
   ]
  },
  {
   "cell_type": "markdown",
   "id": "25a35296-e941-4c3e-96a9-69af0cc60fb0",
   "metadata": {},
   "source": [
    "* Copy down the name of the country/territory as shown above in the dropdown"
   ]
  },
  {
   "cell_type": "code",
   "execution_count": 4,
   "id": "0e7719fa-36e3-4d9a-94e7-19c68a99f426",
   "metadata": {},
   "outputs": [
    {
     "name": "stdout",
     "output_type": "stream",
     "text": [
      "started initial loading of subnational data\n",
      "loading people areas data\n",
      "merged subnational data\n",
      "first spatial join complete\n",
      "cleaned spatial join result\n"
     ]
    },
    {
     "data": {
      "text/html": [
       "<div>\n",
       "<style scoped>\n",
       "    .dataframe tbody tr th:only-of-type {\n",
       "        vertical-align: middle;\n",
       "    }\n",
       "\n",
       "    .dataframe tbody tr th {\n",
       "        vertical-align: top;\n",
       "    }\n",
       "\n",
       "    .dataframe thead th {\n",
       "        text-align: right;\n",
       "    }\n",
       "</style>\n",
       "<table border=\"1\" class=\"dataframe\">\n",
       "  <thead>\n",
       "    <tr style=\"text-align: right;\">\n",
       "      <th></th>\n",
       "      <th>People Group</th>\n",
       "      <th>Alpha-3 Code</th>\n",
       "      <th>Country</th>\n",
       "      <th>People Group Population</th>\n",
       "      <th>geometry</th>\n",
       "      <th>boundaries_present</th>\n",
       "      <th>total_boundary_population</th>\n",
       "      <th>valid</th>\n",
       "      <th>percent_total_boundary</th>\n",
       "      <th>test_type</th>\n",
       "    </tr>\n",
       "  </thead>\n",
       "  <tbody>\n",
       "    <tr>\n",
       "      <th>81</th>\n",
       "      <td>Malay</td>\n",
       "      <td>MYS</td>\n",
       "      <td>Malaysia</td>\n",
       "      <td>13670000</td>\n",
       "      <td>MULTIPOLYGON (((109.85735 1.66335, 109.86960 1...</td>\n",
       "      <td>[MYS-20210215-01, MYS-20210215-06, MYS-2021021...</td>\n",
       "      <td>33837047.0</td>\n",
       "      <td>True</td>\n",
       "      <td>40.399506</td>\n",
       "      <td>1</td>\n",
       "    </tr>\n",
       "    <tr>\n",
       "      <th>107</th>\n",
       "      <td>Sea Dayak</td>\n",
       "      <td>MYS</td>\n",
       "      <td>Malaysia</td>\n",
       "      <td>657000</td>\n",
       "      <td>MULTIPOLYGON (((113.60283 3.32615, 113.63974 3...</td>\n",
       "      <td>[MYS-20210215-13]</td>\n",
       "      <td>2954635.0</td>\n",
       "      <td>True</td>\n",
       "      <td>22.236249</td>\n",
       "      <td>1</td>\n",
       "    </tr>\n",
       "    <tr>\n",
       "      <th>56</th>\n",
       "      <td>Javanese</td>\n",
       "      <td>MYS</td>\n",
       "      <td>Malaysia</td>\n",
       "      <td>702000</td>\n",
       "      <td>MULTIPOLYGON (((117.83575 4.30286, 117.83202 4...</td>\n",
       "      <td>[MYS-20210215-12]</td>\n",
       "      <td>4114803.0</td>\n",
       "      <td>True</td>\n",
       "      <td>17.060355</td>\n",
       "      <td>1</td>\n",
       "    </tr>\n",
       "    <tr>\n",
       "      <th>42</th>\n",
       "      <td>Han Chinese, Min Nan</td>\n",
       "      <td>MYS</td>\n",
       "      <td>Malaysia</td>\n",
       "      <td>2245000</td>\n",
       "      <td>MULTIPOLYGON (((103.92707 1.69347, 103.92775 1...</td>\n",
       "      <td>[MYS-20210215-01, MYS-20210215-06, MYS-2021021...</td>\n",
       "      <td>17986904.0</td>\n",
       "      <td>True</td>\n",
       "      <td>12.481303</td>\n",
       "      <td>1</td>\n",
       "    </tr>\n",
       "    <tr>\n",
       "      <th>137</th>\n",
       "      <td>Tausug</td>\n",
       "      <td>MYS</td>\n",
       "      <td>Malaysia</td>\n",
       "      <td>500000</td>\n",
       "      <td>MULTIPOLYGON (((118.38138 5.71978, 118.54256 5...</td>\n",
       "      <td>[MYS-20210215-12]</td>\n",
       "      <td>4114803.0</td>\n",
       "      <td>True</td>\n",
       "      <td>12.151250</td>\n",
       "      <td>1</td>\n",
       "    </tr>\n",
       "    <tr>\n",
       "      <th>126</th>\n",
       "      <td>Southern Sama</td>\n",
       "      <td>MYS</td>\n",
       "      <td>Malaysia</td>\n",
       "      <td>500000</td>\n",
       "      <td>MULTIPOLYGON (((115.60046 5.63103, 115.60827 5...</td>\n",
       "      <td>[MYS-20210215-12]</td>\n",
       "      <td>4114803.0</td>\n",
       "      <td>True</td>\n",
       "      <td>12.151250</td>\n",
       "      <td>1</td>\n",
       "    </tr>\n",
       "    <tr>\n",
       "      <th>39</th>\n",
       "      <td>Han Chinese, English</td>\n",
       "      <td>MYS</td>\n",
       "      <td>Malaysia</td>\n",
       "      <td>2260000</td>\n",
       "      <td>MULTIPOLYGON (((101.36023 2.91641, 101.36001 2...</td>\n",
       "      <td>[MYS-20210215-01, MYS-20210215-06, MYS-2021021...</td>\n",
       "      <td>23273380.0</td>\n",
       "      <td>True</td>\n",
       "      <td>9.710665</td>\n",
       "      <td>1</td>\n",
       "    </tr>\n",
       "    <tr>\n",
       "      <th>130</th>\n",
       "      <td>Tagalog</td>\n",
       "      <td>MYS</td>\n",
       "      <td>Malaysia</td>\n",
       "      <td>844000</td>\n",
       "      <td>MULTIPOLYGON (((101.69035 3.27474, 101.68964 3...</td>\n",
       "      <td>[MYS-20210215-15, MYS-20210215-04, MYS-2021021...</td>\n",
       "      <td>8780705.0</td>\n",
       "      <td>True</td>\n",
       "      <td>9.611984</td>\n",
       "      <td>1</td>\n",
       "    </tr>\n",
       "    <tr>\n",
       "      <th>38</th>\n",
       "      <td>Han Chinese, Cantonese</td>\n",
       "      <td>MYS</td>\n",
       "      <td>Malaysia</td>\n",
       "      <td>1795000</td>\n",
       "      <td>MULTIPOLYGON (((101.00243 4.66351, 101.00973 4...</td>\n",
       "      <td>[MYS-20210215-06, MYS-20210215-07, MYS-2021021...</td>\n",
       "      <td>20569963.0</td>\n",
       "      <td>True</td>\n",
       "      <td>8.726316</td>\n",
       "      <td>1</td>\n",
       "    </tr>\n",
       "    <tr>\n",
       "      <th>133</th>\n",
       "      <td>Tamil</td>\n",
       "      <td>MYS</td>\n",
       "      <td>Malaysia</td>\n",
       "      <td>2475000</td>\n",
       "      <td>MULTIPOLYGON (((101.29028 3.77242, 101.29273 3...</td>\n",
       "      <td>[MYS-20210215-01, MYS-20210215-06, MYS-2021021...</td>\n",
       "      <td>33580983.0</td>\n",
       "      <td>True</td>\n",
       "      <td>7.370243</td>\n",
       "      <td>1</td>\n",
       "    </tr>\n",
       "  </tbody>\n",
       "</table>\n",
       "</div>"
      ],
      "text/plain": [
       "               People Group Alpha-3 Code   Country  People Group Population  \\\n",
       "81                    Malay          MYS  Malaysia                 13670000   \n",
       "107               Sea Dayak          MYS  Malaysia                   657000   \n",
       "56                 Javanese          MYS  Malaysia                   702000   \n",
       "42     Han Chinese, Min Nan          MYS  Malaysia                  2245000   \n",
       "137                  Tausug          MYS  Malaysia                   500000   \n",
       "126           Southern Sama          MYS  Malaysia                   500000   \n",
       "39     Han Chinese, English          MYS  Malaysia                  2260000   \n",
       "130                 Tagalog          MYS  Malaysia                   844000   \n",
       "38   Han Chinese, Cantonese          MYS  Malaysia                  1795000   \n",
       "133                   Tamil          MYS  Malaysia                  2475000   \n",
       "\n",
       "                                              geometry  \\\n",
       "81   MULTIPOLYGON (((109.85735 1.66335, 109.86960 1...   \n",
       "107  MULTIPOLYGON (((113.60283 3.32615, 113.63974 3...   \n",
       "56   MULTIPOLYGON (((117.83575 4.30286, 117.83202 4...   \n",
       "42   MULTIPOLYGON (((103.92707 1.69347, 103.92775 1...   \n",
       "137  MULTIPOLYGON (((118.38138 5.71978, 118.54256 5...   \n",
       "126  MULTIPOLYGON (((115.60046 5.63103, 115.60827 5...   \n",
       "39   MULTIPOLYGON (((101.36023 2.91641, 101.36001 2...   \n",
       "130  MULTIPOLYGON (((101.69035 3.27474, 101.68964 3...   \n",
       "38   MULTIPOLYGON (((101.00243 4.66351, 101.00973 4...   \n",
       "133  MULTIPOLYGON (((101.29028 3.77242, 101.29273 3...   \n",
       "\n",
       "                                    boundaries_present  \\\n",
       "81   [MYS-20210215-01, MYS-20210215-06, MYS-2021021...   \n",
       "107                                  [MYS-20210215-13]   \n",
       "56                                   [MYS-20210215-12]   \n",
       "42   [MYS-20210215-01, MYS-20210215-06, MYS-2021021...   \n",
       "137                                  [MYS-20210215-12]   \n",
       "126                                  [MYS-20210215-12]   \n",
       "39   [MYS-20210215-01, MYS-20210215-06, MYS-2021021...   \n",
       "130  [MYS-20210215-15, MYS-20210215-04, MYS-2021021...   \n",
       "38   [MYS-20210215-06, MYS-20210215-07, MYS-2021021...   \n",
       "133  [MYS-20210215-01, MYS-20210215-06, MYS-2021021...   \n",
       "\n",
       "     total_boundary_population  valid  percent_total_boundary  test_type  \n",
       "81                  33837047.0   True               40.399506          1  \n",
       "107                  2954635.0   True               22.236249          1  \n",
       "56                   4114803.0   True               17.060355          1  \n",
       "42                  17986904.0   True               12.481303          1  \n",
       "137                  4114803.0   True               12.151250          1  \n",
       "126                  4114803.0   True               12.151250          1  \n",
       "39                  23273380.0   True                9.710665          1  \n",
       "130                  8780705.0   True                9.611984          1  \n",
       "38                  20569963.0   True                8.726316          1  \n",
       "133                 33580983.0   True                7.370243          1  "
      ]
     },
     "execution_count": 4,
     "metadata": {},
     "output_type": "execute_result"
    }
   ],
   "source": [
    "# choose a level to run the validation code on\n",
    "country = 'Malaysia'\n",
    "adm_level = 1\n",
    "\n",
    "# run this cell to validate, no need to change anything below this line\n",
    "results = validate_country(country, adm_level)\n",
    "results.head(10)"
   ]
  },
  {
   "cell_type": "markdown",
   "id": "c747eeca-0de2-4a8e-87b9-041eaf586c1a",
   "metadata": {},
   "source": [
    "<hr style=\"border: 5px solid #005555;\" />\n",
    "<hr style=\"border: 1px solid #mkl234;\" />"
   ]
  },
  {
   "cell_type": "markdown",
   "id": "86198ca2-1692-463e-b6b9-1749e9a37a9f",
   "metadata": {},
   "source": [
    "# Maps"
   ]
  },
  {
   "cell_type": "markdown",
   "id": "584e27cc-6ea0-4951-85fc-7be68424926b",
   "metadata": {},
   "source": [
    "* The purpose of this section is to view/save a map of the results dataframe from the above section \n",
    "    * **IMPORTANT**:`save_map` will save the validation test from above in a new folder called `output`. You will likely use this function the most.\n",
    "        * Note: If all people groups are valid in a country for a specific test (e.g. if adm_level = 1), then there is no map to be saved. It will only save if there are any people groups that *fail* the test (People groups are invalid if their population is greater than the total boundary population or if they do not intersect with any boundaries.)\n",
    "    * `view_map` will show a map of the results dataframe from the above section. You can type in a specific people group or keep it as 'all' to view all people groups in the country. \n",
    "    \n",
    "* Uncomment the cell which is most relevant for you. You can uncomment a cell by deleting only the `#` in front and running the cell."
   ]
  },
  {
   "cell_type": "code",
   "execution_count": 11,
   "id": "3d13d82c-066d-4ad8-abf2-f70b51b3049b",
   "metadata": {},
   "outputs": [],
   "source": [
    "# view_map(results, color='blue', people_group='all')"
   ]
  },
  {
   "cell_type": "code",
   "execution_count": 12,
   "id": "df92629e-e815-4986-8c4f-2299a9bd27f1",
   "metadata": {},
   "outputs": [],
   "source": [
    "# save_map(results)"
   ]
  },
  {
   "cell_type": "markdown",
   "id": "11e8c682-566d-4bd9-9bd4-65e33f140467",
   "metadata": {},
   "source": [
    "<hr style=\"border: 5px solid #005555;\" />\n",
    "<hr style=\"border: 1px solid #mkl234;\" />"
   ]
  }
 ],
 "metadata": {
  "kernelspec": {
   "display_name": "Python 3 (ipykernel)",
   "language": "python",
   "name": "python3"
  },
  "language_info": {
   "codemirror_mode": {
    "name": "ipython",
    "version": 3
   },
   "file_extension": ".py",
   "mimetype": "text/x-python",
   "name": "python",
   "nbconvert_exporter": "python",
   "pygments_lexer": "ipython3",
   "version": "3.9.16"
  }
 },
 "nbformat": 4,
 "nbformat_minor": 5
}
