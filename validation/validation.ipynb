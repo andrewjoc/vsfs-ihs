{
 "cells": [
  {
   "cell_type": "markdown",
   "id": "0b01c0dc-ce75-4472-b98c-cf8677c4ea0c",
   "metadata": {
    "tags": []
   },
   "source": [
    "<table align=\"left\" style=\"width:100%\">\n",
    "  <tr>\n",
    "      <td style=\"width:15%\"></td>\n",
    "      <td style=\"width:85%\"></td>\n",
    "  </tr>\n",
    "  <tr>\n",
    "    <td style=\"width:10%\">\n",
    "        <img style=\"float\" src=\"./data/images/ihs-logo.png\" alt=\"IHS Logo\" style=\"width: 10px;\"/>\n",
    "      </td>\n",
    "    <td align =\"left\" style=\"width:20%\">\n",
    "        <div>\n",
    "            <h2 style=\"margin-top: 0;\">People Groups Validation Notebook</h2>\n",
    "            <h5 style=\"margin-top: 5px;\">Author: Andrew O'Connor</h5>\n",
    "            <h7 style=\"margin-top: 5px;\">Contributors: David Getzen</h7>\n",
    "            </div>\n",
    "      </td>\n",
    "  </tr>\n",
    "</table>"
   ]
  },
  {
   "cell_type": "markdown",
   "id": "cef4c19b-9029-4c38-8545-bd5d54b53289",
   "metadata": {},
   "source": [
    "# Introduction\n",
    "* The purpose of this notebook is to validate the `Population` attribute of each People Group in the People Group Areas (.geojson) dataset\n",
    "    * Main Question: Is the population of each People Group less than or equal to the official population of all the level-specific administrative divisions the group intersects?"
   ]
  },
  {
   "cell_type": "markdown",
   "id": "4099185f-c87c-431b-b762-989fec292d3c",
   "metadata": {},
   "source": [
    "### Using this Notebook\n",
    "* It is important to run the cells of this jupyter notebook **sequentially**\n",
    "* If you are just getting started with this notebook, run each cell **individually**\n",
    "* Things aren't working as expected/errors?\n",
    "    * Restart your kernel and clear all outputs\n",
    "    * Run cells sequentially (from top to bottom)\n",
    "    * Search for your error on Google/Stackoverflow\n",
    "    * Email Andrew or David"
   ]
  },
  {
   "cell_type": "markdown",
   "id": "3707e9e6-895f-455c-bd7d-5202d2b96df2",
   "metadata": {},
   "source": [
    "### Attributions/Links\n",
    "* GitHub: https://github.com/andrewjoc/ihs\n",
    "* Google Drive: https://drive.google.com/drive/folders/1_4R9ut87eemnxWH53VN8QCSyRugit27s?usp=sharing\n",
    "* People Group Areas: https://go-imb.opendata.arcgis.com/datasets/imb::apg-people-group-areas/about\n",
    "    * This information was provided by *The International Mission Board - Global Research*, March 2022, www.peoplegroups.org.\n",
    "* Subnational population & Boundaries: https://fieldmaps.io/ (Max Malynowsky)\n",
    "    * Subnational Population: Common Operational Datasets\n",
    "    * Subnational Boundaries: Humanitarian\n",
    "    * Attribution: FieldMaps, geoBoundaries, U.S. Department of State, U.S. Geological Survey\n",
    "    * License: Creative Commons Attribution 4.0 International (CC BY 4.0)"
   ]
  },
  {
   "cell_type": "markdown",
   "id": "4b3735cc-2326-487a-b911-18f918cab617",
   "metadata": {},
   "source": [
    "<hr style=\"border: 5px solid #005555;\" />\n",
    "<hr style=\"border: 1px solid #mkl234;\" />"
   ]
  },
  {
   "cell_type": "markdown",
   "id": "69d02cbf-dd75-48ad-82e4-4f703f43de85",
   "metadata": {},
   "source": [
    "# Validation Code"
   ]
  },
  {
   "cell_type": "code",
   "execution_count": 2,
   "id": "97a86d6b-d1d9-41e8-9e1d-8584f0449c2f",
   "metadata": {},
   "outputs": [],
   "source": [
    "# important! - run this cell \n",
    "from functions import *"
   ]
  },
  {
   "cell_type": "markdown",
   "id": "d9fba1be-12ec-4757-990a-89b6a736379c",
   "metadata": {},
   "source": [
    "### Instructions\n",
    "* Search for an area to validate by looking at the `country_inputs.txt` file\n",
    "    * Ensure that you spell the country/territory correctly when you assign it to the `country` variable \n",
    "* If you see the message \"IOStream.flush timed out\", ignore it\n",
    "* Setting adm_level = to 3 or 4 may cause you to run into memory issues\n",
    "    * Consider starting with adm_level = 1 and work up to adm_level = 4\n",
    "* If you're interested in seeing the directory structure of the project, uncomment the cell below by deleting only the `#` symbol"
   ]
  },
  {
   "cell_type": "code",
   "execution_count": 3,
   "id": "40635293-692a-4b3e-948c-1cd46e0d08fb",
   "metadata": {},
   "outputs": [
    {
     "name": "stdout",
     "output_type": "stream",
     "text": [
      "\n",
      "        validation/\n",
      "        ├── validation.ipynb\n",
      "        ├── functions.py\n",
      "        ├── country_tests.py\n",
      "        ├── country_rename.py\n",
      "        ├── country_inputs.py\n",
      "        └── data/\n",
      "            ├── boundaries/\n",
      "            │   ├── adm1_polygons/\n",
      "            │   │   ├── adm1_polygons.shp\n",
      "            │   │   ├── adm1_polygons.cpg\n",
      "            │   │   ├── adm1_polygons.dbf\n",
      "            │   │   ├── adm1_polygons.prj\n",
      "            │   │   └── adm1_polygons.shx\n",
      "            │   ├── adm2_polygons/\n",
      "            │   │   ├── adm2_polygons.shp\n",
      "            │   │   └── ...\n",
      "            │   ├── adm3_polygons/\n",
      "            │   │   ├── adm3_polygons.shp\n",
      "            │   │   └── ...\n",
      "            │   └── adm4_polygons/\n",
      "            │       ├── adm4_polygons.shp\n",
      "            │       └── ...\n",
      "            ├── populations/\n",
      "            │   ├── adm1_populations.csv\n",
      "            │   ├── adm2_populations.csv\n",
      "            │   ├── adm3_populations.csv\n",
      "            │   └── adm4_populations.csv\n",
      "            ├── people_groups/\n",
      "            │   └── people_areas.geojson\n",
      "            └── images/\n",
      "                └── ihs-logo.png\n",
      "        \n"
     ]
    }
   ],
   "source": [
    "view_project_structure()"
   ]
  },
  {
   "cell_type": "markdown",
   "id": "6d600425-b334-48d5-afa1-0bb991ddafbf",
   "metadata": {},
   "source": [
    "---"
   ]
  },
  {
   "cell_type": "markdown",
   "id": "7bd9376f-0549-46b2-a2e9-cfff9e53bd19",
   "metadata": {},
   "source": [
    "### 1. Check what tests are available for the country"
   ]
  },
  {
   "cell_type": "code",
   "execution_count": 1,
   "id": "2214c98b-7fc1-4b19-ab45-08192eb48420",
   "metadata": {},
   "outputs": [
    {
     "data": {
      "application/vnd.jupyter.widget-view+json": {
       "model_id": "c685878f18ef4cedbc802655f1e0549e",
       "version_major": 2,
       "version_minor": 0
      },
      "text/plain": [
       "interactive(children=(Dropdown(description='country', options=('Afghanistan', 'Albania', 'Algeria', 'American …"
      ]
     },
     "metadata": {},
     "output_type": "display_data"
    }
   ],
   "source": [
    "from functions import *\n",
    "available_tests_widget();"
   ]
  },
  {
   "cell_type": "markdown",
   "id": "43b12c91-ab7e-4252-9957-50c9f6088b3d",
   "metadata": {},
   "source": [
    "--- "
   ]
  },
  {
   "cell_type": "markdown",
   "id": "1534d80d-be5e-4a4f-a3c0-f30e5879f58f",
   "metadata": {},
   "source": [
    "### 2. Run the Validation Code"
   ]
  },
  {
   "cell_type": "markdown",
   "id": "25a35296-e941-4c3e-96a9-69af0cc60fb0",
   "metadata": {},
   "source": [
    "* Copy down the name of the country/territory as shown above in the dropdown"
   ]
  },
  {
   "cell_type": "code",
   "execution_count": null,
   "id": "0e7719fa-36e3-4d9a-94e7-19c68a99f426",
   "metadata": {},
   "outputs": [],
   "source": [
    "# choose a level to run the validation code on\n",
    "country = \"Indonesia\"\n",
    "adm_level = 1\n",
    "\n",
    "# run this cell to validate, no need to change anything below this line\n",
    "results = validate_country(country, adm_level)\n",
    "results.head(5)"
   ]
  },
  {
   "cell_type": "markdown",
   "id": "c747eeca-0de2-4a8e-87b9-041eaf586c1a",
   "metadata": {},
   "source": [
    "<hr style=\"border: 5px solid #005555;\" />\n",
    "<hr style=\"border: 1px solid #mkl234;\" />"
   ]
  },
  {
   "cell_type": "markdown",
   "id": "86198ca2-1692-463e-b6b9-1749e9a37a9f",
   "metadata": {},
   "source": [
    "# Map"
   ]
  },
  {
   "cell_type": "markdown",
   "id": "584e27cc-6ea0-4951-85fc-7be68424926b",
   "metadata": {},
   "source": [
    "* The purpose of this section is to view a map of invalid people groups.\n",
    "    * People groups are invalid if their population is greater than the total boundary population or if they do not intersect with any boundaries."
   ]
  },
  {
   "cell_type": "code",
   "execution_count": null,
   "id": "df92629e-e815-4986-8c4f-2299a9bd27f1",
   "metadata": {},
   "outputs": [],
   "source": [
    "save_map(results)"
   ]
  },
  {
   "cell_type": "markdown",
   "id": "11e8c682-566d-4bd9-9bd4-65e33f140467",
   "metadata": {},
   "source": [
    "<hr style=\"border: 5px solid #005555;\" />\n",
    "<hr style=\"border: 1px solid #mkl234;\" />"
   ]
  }
 ],
 "metadata": {
  "kernelspec": {
   "display_name": "Python 3 (ipykernel)",
   "language": "python",
   "name": "python3"
  },
  "language_info": {
   "codemirror_mode": {
    "name": "ipython",
    "version": 3
   },
   "file_extension": ".py",
   "mimetype": "text/x-python",
   "name": "python",
   "nbconvert_exporter": "python",
   "pygments_lexer": "ipython3",
   "version": "3.9.16"
  }
 },
 "nbformat": 4,
 "nbformat_minor": 5
}
